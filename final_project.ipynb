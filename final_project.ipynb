{
 "cells": [
  {
   "cell_type": "markdown",
   "source": [
    "# Cyclone Classification Project\n",
    "\n",
    "Link to the data: https://www.kaggle.com/datasets/noaa/hurricane-database/data\n",
    "\n",
    "About the data:\n",
    "\n",
    "The National Hurricane Center (NHC) conducts a post-storm analysis of each tropical cyclone in the Atlantic\n",
    "basin (i.e., North Atlantic Ocean, Gulf of Mexico, and Caribbean Sea) and the North Pacific Ocean to determine the official assessment of the cyclone's history. This analysis makes use of all available observations, including those that may not have been available in real time. In addition, NHC conducts ongoing reviews of any retrospective tropical cyclone analyses brought to its attention and on a regular basis updates the historical record to reflect\n",
    "changes introduced.\n",
    "\n",
    "Full description of the data can be found here: https://www.nhc.noaa.gov/data/hurdat/hurdat2-format-atlantic.pdf\n",
    "\n",
    "Goal: Classify the cyclones detected in the atlantic ocean (i.e., classify the type of the cyclone, the Status)"
   ],
   "metadata": {
    "collapsed": false
   },
   "id": "7a96dc649073097"
  },
  {
   "cell_type": "code",
   "execution_count": 1,
   "id": "initial_id",
   "metadata": {
    "collapsed": true,
    "ExecuteTime": {
     "end_time": "2024-07-04T16:47:11.019209Z",
     "start_time": "2024-07-04T16:47:09.959718Z"
    }
   },
   "outputs": [],
   "source": [
    "import pandas as pd\n",
    "import seaborn as sns\n",
    "import re\n",
    "import geopandas as gpd\n",
    "import numpy as np\n",
    "import itertools\n",
    "\n",
    "from sklearn.base import BaseEstimator, TransformerMixin\n",
    "from sklearn.pipeline import Pipeline \n",
    "from sklearn.compose import ColumnTransformer\n",
    "from sklearn.metrics import f1_score, roc_auc_score, precision_recall_curve\n",
    "from sklearn.model_selection import learning_curve, validation_curve, train_test_split, KFold, StratifiedKFold, cross_val_score, GridSearchCV, RandomizedSearchCV, cross_validate, RepeatedStratifiedKFold\n",
    "from sklearn.linear_model import Perceptron, LogisticRegression\n",
    "from sklearn.neighbors import KNeighborsClassifier\n",
    "from sklearn.decomposition import PCA\n",
    "from sklearn.discriminant_analysis import LinearDiscriminantAnalysis as LDA\n",
    "from sklearn.impute import SimpleImputer, KNNImputer\n",
    "from sklearn.preprocessing import FunctionTransformer, StandardScaler, OneHotEncoder, OrdinalEncoder, LabelEncoder\n",
    "from sklearn.datasets import fetch_openml\n",
    "from sklearn.ensemble import RandomForestClassifier\n",
    "from sklearn.multiclass import OneVsOneClassifier, OneVsRestClassifier\n",
    "from sklearn.svm import SVC, LinearSVC\n",
    "from xgboost import XGBClassifier\n",
    "\n",
    "from scipy.stats import loguniform, beta, uniform\n",
    "\n",
    "from mlxtend.feature_selection import SequentialFeatureSelector as SFS\n",
    "\n",
    "from imblearn.over_sampling import SMOTE, RandomOverSampler\n",
    "from imblearn.under_sampling import RandomUnderSampler\n",
    "from imblearn.pipeline import Pipeline as IMBPipeline\n",
    "\n",
    "import missingno as msno\n",
    "\n",
    "import matplotlib.pyplot as plt\n",
    "import warnings\n",
    "\n",
    "warnings.filterwarnings('ignore')"
   ]
  },
  {
   "cell_type": "markdown",
   "source": [
    "## Uploading the Dataset"
   ],
   "metadata": {
    "collapsed": false
   },
   "id": "3d4e89c24a5ce41"
  },
  {
   "cell_type": "code",
   "outputs": [
    {
     "data": {
      "text/plain": "   Unnamed: 0        ID                 Name        Date    Time Event Status  \\\n0           0  AL011851              UNNAMED  18510625.0     NaN           HU   \n1           1  AL011851              UNNAMED  18510625.0     NaN           HU   \n2           2  AL011851              UNNAMED  18510625.0     NaN           HU   \n3           3  AL011851              UNNAMED  18510625.0  1800.0           HU   \n4           4  AL011851              UNNAMED  18510625.0     NaN     L     HU   \n\n  Latitude Longitude  Maximum Wind  ...  Low Wind SW  Low Wind NW  \\\n0    28.0N     94.8W          80.0  ...       -999.0       -999.0   \n1    28.0N     95.4W          80.0  ...       -999.0       -999.0   \n2    28.0N     96.0W          80.0  ...       -999.0       -999.0   \n3    28.1N     96.5W          80.0  ...       -999.0       -999.0   \n4    28.2N     96.8W          80.0  ...       -999.0       -999.0   \n\n   Moderate Wind NE  Moderate Wind SE  Moderate Wind SW  Moderate Wind NW  \\\n0            -999.0               NaN            -999.0            -999.0   \n1            -999.0               NaN            -999.0               NaN   \n2            -999.0               NaN            -999.0            -999.0   \n3            -999.0               NaN            -999.0            -999.0   \n4            -999.0            -999.0            -999.0            -999.0   \n\n   High Wind NE  High Wind SE  High Wind SW  High Wind NW  \n0        -999.0        -999.0        -999.0        -999.0  \n1        -999.0        -999.0        -999.0        -999.0  \n2        -999.0        -999.0           NaN        -999.0  \n3        -999.0        -999.0        -999.0        -999.0  \n4        -999.0        -999.0        -999.0        -999.0  \n\n[5 rows x 23 columns]",
      "text/html": "<div>\n<style scoped>\n    .dataframe tbody tr th:only-of-type {\n        vertical-align: middle;\n    }\n\n    .dataframe tbody tr th {\n        vertical-align: top;\n    }\n\n    .dataframe thead th {\n        text-align: right;\n    }\n</style>\n<table border=\"1\" class=\"dataframe\">\n  <thead>\n    <tr style=\"text-align: right;\">\n      <th></th>\n      <th>Unnamed: 0</th>\n      <th>ID</th>\n      <th>Name</th>\n      <th>Date</th>\n      <th>Time</th>\n      <th>Event</th>\n      <th>Status</th>\n      <th>Latitude</th>\n      <th>Longitude</th>\n      <th>Maximum Wind</th>\n      <th>...</th>\n      <th>Low Wind SW</th>\n      <th>Low Wind NW</th>\n      <th>Moderate Wind NE</th>\n      <th>Moderate Wind SE</th>\n      <th>Moderate Wind SW</th>\n      <th>Moderate Wind NW</th>\n      <th>High Wind NE</th>\n      <th>High Wind SE</th>\n      <th>High Wind SW</th>\n      <th>High Wind NW</th>\n    </tr>\n  </thead>\n  <tbody>\n    <tr>\n      <th>0</th>\n      <td>0</td>\n      <td>AL011851</td>\n      <td>UNNAMED</td>\n      <td>18510625.0</td>\n      <td>NaN</td>\n      <td></td>\n      <td>HU</td>\n      <td>28.0N</td>\n      <td>94.8W</td>\n      <td>80.0</td>\n      <td>...</td>\n      <td>-999.0</td>\n      <td>-999.0</td>\n      <td>-999.0</td>\n      <td>NaN</td>\n      <td>-999.0</td>\n      <td>-999.0</td>\n      <td>-999.0</td>\n      <td>-999.0</td>\n      <td>-999.0</td>\n      <td>-999.0</td>\n    </tr>\n    <tr>\n      <th>1</th>\n      <td>1</td>\n      <td>AL011851</td>\n      <td>UNNAMED</td>\n      <td>18510625.0</td>\n      <td>NaN</td>\n      <td></td>\n      <td>HU</td>\n      <td>28.0N</td>\n      <td>95.4W</td>\n      <td>80.0</td>\n      <td>...</td>\n      <td>-999.0</td>\n      <td>-999.0</td>\n      <td>-999.0</td>\n      <td>NaN</td>\n      <td>-999.0</td>\n      <td>NaN</td>\n      <td>-999.0</td>\n      <td>-999.0</td>\n      <td>-999.0</td>\n      <td>-999.0</td>\n    </tr>\n    <tr>\n      <th>2</th>\n      <td>2</td>\n      <td>AL011851</td>\n      <td>UNNAMED</td>\n      <td>18510625.0</td>\n      <td>NaN</td>\n      <td></td>\n      <td>HU</td>\n      <td>28.0N</td>\n      <td>96.0W</td>\n      <td>80.0</td>\n      <td>...</td>\n      <td>-999.0</td>\n      <td>-999.0</td>\n      <td>-999.0</td>\n      <td>NaN</td>\n      <td>-999.0</td>\n      <td>-999.0</td>\n      <td>-999.0</td>\n      <td>-999.0</td>\n      <td>NaN</td>\n      <td>-999.0</td>\n    </tr>\n    <tr>\n      <th>3</th>\n      <td>3</td>\n      <td>AL011851</td>\n      <td>UNNAMED</td>\n      <td>18510625.0</td>\n      <td>1800.0</td>\n      <td></td>\n      <td>HU</td>\n      <td>28.1N</td>\n      <td>96.5W</td>\n      <td>80.0</td>\n      <td>...</td>\n      <td>-999.0</td>\n      <td>-999.0</td>\n      <td>-999.0</td>\n      <td>NaN</td>\n      <td>-999.0</td>\n      <td>-999.0</td>\n      <td>-999.0</td>\n      <td>-999.0</td>\n      <td>-999.0</td>\n      <td>-999.0</td>\n    </tr>\n    <tr>\n      <th>4</th>\n      <td>4</td>\n      <td>AL011851</td>\n      <td>UNNAMED</td>\n      <td>18510625.0</td>\n      <td>NaN</td>\n      <td>L</td>\n      <td>HU</td>\n      <td>28.2N</td>\n      <td>96.8W</td>\n      <td>80.0</td>\n      <td>...</td>\n      <td>-999.0</td>\n      <td>-999.0</td>\n      <td>-999.0</td>\n      <td>-999.0</td>\n      <td>-999.0</td>\n      <td>-999.0</td>\n      <td>-999.0</td>\n      <td>-999.0</td>\n      <td>-999.0</td>\n      <td>-999.0</td>\n    </tr>\n  </tbody>\n</table>\n<p>5 rows × 23 columns</p>\n</div>"
     },
     "execution_count": 2,
     "metadata": {},
     "output_type": "execute_result"
    }
   ],
   "source": [
    "data_atlantic = pd.read_csv('data/atlantic_corrupted.csv')\n",
    "data_atlantic.head()"
   ],
   "metadata": {
    "collapsed": false,
    "ExecuteTime": {
     "end_time": "2024-07-04T16:47:11.296510Z",
     "start_time": "2024-07-04T16:47:11.021711Z"
    }
   },
   "id": "da65fa3e559f97ab",
   "execution_count": 2
  },
  {
   "cell_type": "code",
   "outputs": [
    {
     "data": {
      "text/plain": "(49596, 23)"
     },
     "execution_count": 3,
     "metadata": {},
     "output_type": "execute_result"
    }
   ],
   "source": [
    "data_atlantic.shape"
   ],
   "metadata": {
    "collapsed": false,
    "ExecuteTime": {
     "end_time": "2024-07-04T16:47:11.305011Z",
     "start_time": "2024-07-04T16:47:11.300250Z"
    }
   },
   "id": "cfe1a92d30f113ee",
   "execution_count": 3
  },
  {
   "cell_type": "markdown",
   "source": [
    "The dataset consists of over 49 thousand instances and 22 features. We shall now take a closer look to the dataset and do the first preprocessing step."
   ],
   "metadata": {
    "collapsed": false
   },
   "id": "64b6dfdc4c700f4d"
  },
  {
   "cell_type": "markdown",
   "source": [
    "## First Preprocessing\n",
    "\n",
    "Here, we must firstly deal with missing data, drop unnecessary features if needed and understand what kind of data we have."
   ],
   "metadata": {
    "collapsed": false
   },
   "id": "a494f8e732df190a"
  },
  {
   "cell_type": "code",
   "outputs": [
    {
     "name": "stdout",
     "output_type": "stream",
     "text": [
      "<class 'pandas.core.frame.DataFrame'>\n",
      "RangeIndex: 49596 entries, 0 to 49595\n",
      "Data columns (total 23 columns):\n",
      " #   Column            Non-Null Count  Dtype  \n",
      "---  ------            --------------  -----  \n",
      " 0   Unnamed: 0        49596 non-null  int64  \n",
      " 1   ID                49105 non-null  object \n",
      " 2   Name              49105 non-null  object \n",
      " 3   Date              49105 non-null  float64\n",
      " 4   Time              27008 non-null  float64\n",
      " 5   Event             49105 non-null  object \n",
      " 6   Status            49105 non-null  object \n",
      " 7   Latitude          49105 non-null  object \n",
      " 8   Longitude         49105 non-null  object \n",
      " 9   Maximum Wind      37811 non-null  float64\n",
      " 10  Minimum Pressure  49105 non-null  float64\n",
      " 11  Low Wind NE       34374 non-null  float64\n",
      " 12  Low Wind SE       17187 non-null  float64\n",
      " 13  Low Wind SW       49105 non-null  float64\n",
      " 14  Low Wind NW       49105 non-null  float64\n",
      " 15  Moderate Wind NE  49105 non-null  float64\n",
      " 16  Moderate Wind SE  6798 non-null   float64\n",
      " 17  Moderate Wind SW  49105 non-null  float64\n",
      " 18  Moderate Wind NW  40267 non-null  float64\n",
      " 19  High Wind NE      49105 non-null  float64\n",
      " 20  High Wind SE      49105 non-null  float64\n",
      " 21  High Wind SW      32410 non-null  float64\n",
      " 22  High Wind NW      49105 non-null  float64\n",
      "dtypes: float64(16), int64(1), object(6)\n",
      "memory usage: 8.7+ MB\n"
     ]
    }
   ],
   "source": [
    "data_atlantic.info()"
   ],
   "metadata": {
    "collapsed": false,
    "ExecuteTime": {
     "end_time": "2024-07-04T16:47:11.328904Z",
     "start_time": "2024-07-04T16:47:11.306321Z"
    }
   },
   "id": "74946e849a2cb8a2",
   "execution_count": 4
  },
  {
   "cell_type": "markdown",
   "source": [
    "What we have is this:\n",
    "- 'Unnamed: 0' column is just an ID column generated by data_noiser code, we will remove it.\n",
    "- 'Event', 'Status', 'Latitude', 'Longitude' are all non numerical features. \n",
    "- 'ID' and 'Name' are the same thing, they just identify the certain event.\n",
    "\n",
    "We shall remove 'Unnamed: 0' column now, since it was generated by data noiser and just indicates the id of samples, which we have in any case."
   ],
   "metadata": {
    "collapsed": false
   },
   "id": "f3e846fc976f5fc7"
  },
  {
   "cell_type": "code",
   "outputs": [
    {
     "data": {
      "text/plain": "(49596, 22)"
     },
     "execution_count": 5,
     "metadata": {},
     "output_type": "execute_result"
    }
   ],
   "source": [
    "data_atlantic.set_index('Unnamed: 0', inplace=True)\n",
    "data_atlantic.shape"
   ],
   "metadata": {
    "collapsed": false,
    "ExecuteTime": {
     "end_time": "2024-07-04T16:47:11.337604Z",
     "start_time": "2024-07-04T16:47:11.331215Z"
    }
   },
   "id": "790d091cef3c9b3",
   "execution_count": 5
  },
  {
   "cell_type": "markdown",
   "source": [
    "Now, let's take a closer look and evaluate how much data is missing for each column."
   ],
   "metadata": {
    "collapsed": false
   },
   "id": "fa740dc45d095aa8"
  },
  {
   "cell_type": "code",
   "outputs": [
    {
     "data": {
      "text/plain": "ID                   0.989999\nName                 0.989999\nDate                 0.989999\nTime                45.543995\nEvent                0.989999\nStatus               0.989999\nLatitude             0.989999\nLongitude            0.989999\nMaximum Wind        23.761997\nMinimum Pressure     0.989999\nLow Wind NE         30.691991\nLow Wind SE         65.345996\nLow Wind SW          0.989999\nLow Wind NW          0.989999\nModerate Wind NE     0.989999\nModerate Wind SE    86.293249\nModerate Wind SW     0.989999\nModerate Wind NW    18.809985\nHigh Wind NE         0.989999\nHigh Wind SE         0.989999\nHigh Wind SW        34.651988\nHigh Wind NW         0.989999\ndtype: float64"
     },
     "execution_count": 6,
     "metadata": {},
     "output_type": "execute_result"
    }
   ],
   "source": [
    "data_atlantic.isnull().sum(axis=0) / data_atlantic.shape[0] * 100 # just for fun, let's see it in 'percentage' "
   ],
   "metadata": {
    "collapsed": false,
    "ExecuteTime": {
     "end_time": "2024-07-04T16:47:11.355724Z",
     "start_time": "2024-07-04T16:47:11.339426Z"
    }
   },
   "id": "ca6a9bc24105d859",
   "execution_count": 6
  },
  {
   "cell_type": "markdown",
   "source": [
    "What we see is this:\n",
    "- 'Time', 'Latitude', 'Maximum Wind', 'Low Wind NE', 'Low Wind SE', 'Moderate Wind NW' and 'High Wind SW' have moderately high percentage of missing data.\n",
    "- The rest of the features have the same percentage of missing data, so we 'suspect' there are samples full of only missing data. Let's check:"
   ],
   "metadata": {
    "collapsed": false
   },
   "id": "363e47b83029f5e8"
  },
  {
   "cell_type": "code",
   "outputs": [
    {
     "name": "stdout",
     "output_type": "stream",
     "text": [
      "Amount of samples containing only missing data: 491\n",
      "The percentage of such rows: 0.9899991934833454\n"
     ]
    }
   ],
   "source": [
    "# we check on axis=1, i.e. all the rows, for the instances full of only missing data by comparing the sum of missing values to the number of columns\n",
    "print(f'Amount of samples containing only missing data: {(data_atlantic.isnull().sum(axis=1) == data_atlantic.shape[1]).sum()}')\n",
    "print(f'The percentage of such rows: {((data_atlantic.isnull().sum(axis=1) == data_atlantic.shape[1]).sum())/data_atlantic.shape[0] * 100}')"
   ],
   "metadata": {
    "collapsed": false,
    "ExecuteTime": {
     "end_time": "2024-07-04T16:47:11.401304Z",
     "start_time": "2024-07-04T16:47:11.357043Z"
    }
   },
   "id": "d8b0558a922fc833",
   "execution_count": 7
  },
  {
   "cell_type": "markdown",
   "source": [
    "We have nearly 500 rows with missing data. This is less than 1% of total data, we can remove these rows."
   ],
   "metadata": {
    "collapsed": false
   },
   "id": "2765e20417a2ee8d"
  },
  {
   "cell_type": "code",
   "outputs": [
    {
     "data": {
      "text/plain": "(49105, 22)"
     },
     "execution_count": 8,
     "metadata": {},
     "output_type": "execute_result"
    }
   ],
   "source": [
    "data_atlantic.dropna(how='all', axis=0, inplace=True)\n",
    "data_atlantic.shape"
   ],
   "metadata": {
    "collapsed": false,
    "ExecuteTime": {
     "end_time": "2024-07-04T16:47:11.432816Z",
     "start_time": "2024-07-04T16:47:11.406049Z"
    }
   },
   "id": "d7b3b40c5dbeb1ee",
   "execution_count": 8
  },
  {
   "cell_type": "markdown",
   "source": [
    "Now we go back to the rest of the missing data"
   ],
   "metadata": {
    "collapsed": false
   },
   "id": "4ffe81e7a56ff233"
  },
  {
   "cell_type": "code",
   "outputs": [
    {
     "data": {
      "text/plain": "ID                   0.000000\nName                 0.000000\nDate                 0.000000\nTime                44.999491\nEvent                0.000000\nStatus               0.000000\nLatitude             0.000000\nLongitude            0.000000\nMaximum Wind        22.999695\nMinimum Pressure     0.000000\nLow Wind NE         29.998982\nLow Wind SE         64.999491\nLow Wind SW          0.000000\nLow Wind NW          0.000000\nModerate Wind NE     0.000000\nModerate Wind SE    86.156196\nModerate Wind SW     0.000000\nModerate Wind NW    17.998167\nHigh Wind NE         0.000000\nHigh Wind SE         0.000000\nHigh Wind SW        33.998574\nHigh Wind NW         0.000000\ndtype: float64"
     },
     "execution_count": 9,
     "metadata": {},
     "output_type": "execute_result"
    }
   ],
   "source": [
    "data_atlantic.isnull().sum(axis=0) / data_atlantic.shape[0] * 100  "
   ],
   "metadata": {
    "collapsed": false,
    "ExecuteTime": {
     "end_time": "2024-07-04T16:47:11.457834Z",
     "start_time": "2024-07-04T16:47:11.440707Z"
    }
   },
   "id": "a1fb29c36f3b98a9",
   "execution_count": 9
  },
  {
   "cell_type": "markdown",
   "source": [
    "- Time has a float value here and missing values shall be substituted by median value.\n",
    "- Latitude and Longitude here are object, but it can be transformed into numerical features + missing values will be substitued by mean values.\n",
    "- Maximum Wind, Low Wind NE, Low Wind SE, Moderate Wind NW, High Wind SW, Moderate Wind SE are all numerical features, mean values will be imputed.\n",
    "\n",
    "Alright, we know what to do with missing values; what shall we do with the rest of the features (i.e., the ones with the type 'object')\n",
    "\n",
    "- ID and Name are practically the same, one of them will be dropped, the other substituted by integers.\n",
    "- Latitude and Longitude can be converted to float by using extra function we shall define below\n",
    "- Status is a categorical feature, and here we can just encode names of classes by mapping them to the integers.\n",
    "\n",
    "Before we proceed, we take closer look at the 'Status' and 'Event' features."
   ],
   "metadata": {
    "collapsed": false
   },
   "id": "97846a0638b5c6c8"
  },
  {
   "cell_type": "code",
   "outputs": [
    {
     "name": "stdout",
     "output_type": "stream",
     "text": [
      "[' HU' ' TS' ' EX' ' TD' ' LO' ' DB' ' SD' ' SS' ' WV']\n",
      "3\n"
     ]
    },
    {
     "data": {
      "text/plain": "<Figure size 640x480 with 1 Axes>",
      "image/png": "[encoded data removed]"
     },
     "metadata": {},
     "output_type": "display_data"
    }
   ],
   "source": [
    "sns.countplot(x='Status', data=data_atlantic, palette='pastel')\n",
    "print(data_atlantic.Status.unique())\n",
    "print(len(data_atlantic.Status.unique()[0]))"
   ],
   "metadata": {
    "collapsed": false,
    "ExecuteTime": {
     "end_time": "2024-07-04T16:47:11.968647Z",
     "start_time": "2024-07-04T16:47:11.459126Z"
    }
   },
   "id": "f6c19d4926874fd9",
   "execution_count": 10
  },
  {
   "cell_type": "markdown",
   "source": [
    "Status can be the following types:\n",
    "- TD – Tropical cyclone of tropical depression intensity (< 34 knots)\n",
    "- TS – Tropical cyclone of tropical storm intensity (34-63 knots)\n",
    "- HU – Tropical cyclone of hurricane intensity (> 64 knots)\n",
    "- EX – Extratropical cyclone (of any intensity)\n",
    "- SD – Subtropical cyclone of subtropical depression intensity (< 34 knots)\n",
    "- SS – Subtropical cyclone of subtropical storm intensity (> 34 knots)\n",
    "- LO – A low that is neither a tropical cyclone, a subtropical cyclone, nor an extratropical cyclone (of any intensity)\n",
    "- WV – Tropical Wave (of any intensity)\n",
    "- DB – Disturbance (of any intensity)\n",
    "\n",
    "Status is our target class; we shall encode these categories and learn the model to classify the cyclones.\n",
    "\n",
    "As for the Event, if we take a closer look..."
   ],
   "metadata": {
    "collapsed": false
   },
   "id": "42a3d59393ffbc61"
  },
  {
   "cell_type": "markdown",
   "source": [
    "L – Record identifier\n",
    "C – Closest approach to a coast, not followed by a landfall\n",
    "G – Genesis\n",
    "I – An intensity peak in terms of both pressure and wind\n",
    "L – Landfall (center of system crossing a coastline)\n",
    "P – Minimum in central pressure\n",
    "R – Provides additional detail on the intensity of the cyclone when rapid changes are underway\n",
    "S – Change of status of the system\n",
    "T – Provides additional detail on the track (position) of the cyclone\n",
    "W – Maximum sustained wind speed\n",
    "\n",
    "While these value carry some information, we can easily remove them.\n",
    "\n",
    "Thus, we shall apply the following transformations:\n",
    "\n",
    "1. Features representing data bout Wind, Pressure, Time: \n",
    "        - SimpleImputer, i.e. substitute missing values with mean of each column\n",
    "        - StandardScaler, i.e. bring features to the same scale \n",
    "2. Latitude, Longitude:\n",
    "        - CoordinateTransformer: define the new transformer class which takes these features and returns numerical values instead of strings\n",
    "        - StandardScaler (bring them to the same scale)\n",
    "3. Event:\n",
    "        - EventTransformer: define the new transformer class which transforms the categories into numerical features.\n",
    "4. Date:\n",
    "        - DateTransformer: define the new transformer to change the format of the dates in the dataset.\n",
    "\n",
    "\n",
    "The rest shall be dropped.\n",
    "\n",
    "### Defining extra Transformers"
   ],
   "metadata": {
    "collapsed": false
   },
   "id": "a87ded01eaa72040"
  },
  {
   "cell_type": "code",
   "outputs": [],
   "source": [
    "class CoordinateTransformer(BaseEstimator, TransformerMixin):\n",
    "    \"\"\"\n",
    "    The class converts given coordinates into numerical values (float) \n",
    "    while preserving the information about the coordinate (N, E, W, S)\n",
    "    \"\"\"\n",
    "    def __init__(self):\n",
    "        pass\n",
    "    \n",
    "    def fit(self, X, y=None):\n",
    "        return self\n",
    "\n",
    "    def coordinate_mapping(self, x):\n",
    "        # if latitude/longitude value has S/W at the end, we indicate it by multiplying the numerical value by -1\n",
    "        # otherwise, it's normal\n",
    "        coord = float(x[:-1]) # convert the string into float, except for the last symbol\n",
    "        if x[-1] in [\"W\", \"S\"]:\n",
    "            coord *= -1\n",
    "        return coord\n",
    "    \n",
    "    def transform(self, X, y=None):\n",
    "        X = X.copy()\n",
    "        X[\"Latitude\"] = X[\"Latitude\"].apply(self.coordinate_mapping)\n",
    "        X[\"Longitude\"] = X[\"Longitude\"].apply(self.coordinate_mapping)\n",
    "        return X"
   ],
   "metadata": {
    "collapsed": false,
    "ExecuteTime": {
     "end_time": "2024-07-04T16:47:11.976281Z",
     "start_time": "2024-07-04T16:47:11.971126Z"
    }
   },
   "id": "7a270eca3dca2ea8",
   "execution_count": 11
  },
  {
   "cell_type": "code",
   "outputs": [],
   "source": [
    "class EventTransformer(BaseEstimator, TransformerMixin):\n",
    "    def __init__(self, mapping=None):\n",
    "        if mapping is None:\n",
    "            self.mapping = {\n",
    "                '  ': 0, ' L': 1, ' C': 2, ' G': 3, ' I': 4, ' R': 5, \n",
    "                ' P': 6, ' W': 7, ' S': 8, ' T': 9\n",
    "            }\n",
    "        else:\n",
    "            self.mapping = mapping\n",
    "    \n",
    "    def fit(self, X, y=None):\n",
    "        return self\n",
    "    \n",
    "    def transform(self, X, y=None):\n",
    "        X = X.copy()\n",
    "        X['Event'] = X['Event'].map(self.mapping)\n",
    "        return X"
   ],
   "metadata": {
    "collapsed": false,
    "ExecuteTime": {
     "end_time": "2024-07-04T16:47:11.983522Z",
     "start_time": "2024-07-04T16:47:11.977861Z"
    }
   },
   "id": "62c7046d7f2448fd",
   "execution_count": 12
  },
  {
   "cell_type": "code",
   "outputs": [],
   "source": [
    "class DateTransformer(BaseEstimator, TransformerMixin):\n",
    "    \"\"\"\n",
    "    This class converts the format to '%Y%m%d' and then creates 3 new features for storing Year, Month, Day\n",
    "    \"\"\"\n",
    "    def __init__(self, date_format='%Y%m%d'):\n",
    "        self.date_format = date_format\n",
    "    \n",
    "    def fit(self, X, y=None):\n",
    "        return self\n",
    "    \n",
    "    def transform(self, X, y=None):\n",
    "        X = X.copy()\n",
    "        date = pd.to_datetime(X['Date'], format=self.date_format)\n",
    "        X['Year'] = date.dt.year\n",
    "        X['Month'] = date.dt.month\n",
    "        X['Day'] = date.dt.day\n",
    "        X = X.drop(['Date'], axis=1)\n",
    "        return X"
   ],
   "metadata": {
    "collapsed": false,
    "ExecuteTime": {
     "end_time": "2024-07-04T16:47:11.991609Z",
     "start_time": "2024-07-04T16:47:11.985236Z"
    }
   },
   "id": "2c5f10fb528a3b5",
   "execution_count": 13
  },
  {
   "cell_type": "markdown",
   "source": [
    "Now we can create the pipelines and the final column transformer.\n"
   ],
   "metadata": {
    "collapsed": false
   },
   "id": "ddd15e9bef390a5"
  },
  {
   "cell_type": "code",
   "outputs": [],
   "source": [
    "pipeline_event = Pipeline([\n",
    "    ('event_changer', EventTransformer()),\n",
    "    ('scaler', StandardScaler())\n",
    "])\n",
    "\n",
    "pipeline_date = Pipeline([\n",
    "    ('change_dates', DateTransformer()),\n",
    "    ('scaler', StandardScaler())\n",
    "])\n",
    "\n",
    "pipeline_winds_time = Pipeline([\n",
    "    ('imp', SimpleImputer(strategy='mean')),\n",
    "    ('scaler', StandardScaler())\n",
    "])\n",
    "\n",
    "pipeline_coords = Pipeline([\n",
    "    ('transform', CoordinateTransformer()),\n",
    "    ('scaler', StandardScaler())\n",
    "])\n",
    "\n",
    "\n",
    "final_transformer = ColumnTransformer([\n",
    "    ('categories', pipeline_event, ['Event']),\n",
    "    ('winds_of_change', pipeline_winds_time, ['Time', 'Maximum Wind', 'Minimum Pressure', 'Low Wind NE',\n",
    "       'Low Wind SE', 'Low Wind SW', 'Low Wind NW', 'Moderate Wind NE',\n",
    "       'Moderate Wind SE', 'Moderate Wind SW', 'Moderate Wind NW',\n",
    "       'High Wind NE', 'High Wind SE', 'High Wind SW', 'High Wind NW']),\n",
    "    ('coords', pipeline_coords, ['Latitude', 'Longitude']),\n",
    "    ('dates', pipeline_date, ['Date']),\n",
    "    #('id_transformer', OneHotEncoder(categories='auto', drop='first', handle_unknown='ignore'), ['ID'])\n",
    "],\n",
    "    remainder='drop',\n",
    "    verbose_feature_names_out=False,\n",
    "    sparse_threshold=0)"
   ],
   "metadata": {
    "collapsed": false,
    "ExecuteTime": {
     "end_time": "2024-07-04T16:47:11.998771Z",
     "start_time": "2024-07-04T16:47:11.993359Z"
    }
   },
   "id": "fa16f77aed1a48ee",
   "execution_count": 14
  },
  {
   "cell_type": "markdown",
   "source": [
    "## Train - Test Split\n",
    "\n",
    "Now we are splitting the data into train and test sets. \n",
    "As we said before, 'Status' is our target, y."
   ],
   "metadata": {
    "collapsed": false
   },
   "id": "ee51c3ca1730e65b"
  },
  {
   "cell_type": "code",
   "outputs": [],
   "source": [
    "X = data_atlantic.drop(['Status'], axis=1)\n",
    "y = data_atlantic['Status']\n",
    "y = y.map({' HU': 1, ' TS': 2, ' EX': 3, ' TD': 4, ' LO': 5, ' DB': 6, ' SD': 7, ' SS': 8, ' WV': 9})\n",
    "\n",
    "X_train, X_test, y_train, y_test = train_test_split(X, y, test_size=0.3,\n",
    "                                                    random_state=43, \n",
    "                                                    stratify=y, \n",
    "                                                    shuffle=True)"
   ],
   "metadata": {
    "collapsed": false,
    "ExecuteTime": {
     "end_time": "2024-07-04T16:47:12.042137Z",
     "start_time": "2024-07-04T16:47:12.000796Z"
    }
   },
   "id": "348cbc6afa9a2440",
   "execution_count": 15
  },
  {
   "cell_type": "markdown",
   "source": [
    "## Model Selection"
   ],
   "metadata": {
    "collapsed": false
   },
   "id": "6ce7032e2de3e434"
  },
  {
   "cell_type": "code",
   "outputs": [],
   "source": [
    "model_pipeline = IMBPipeline([ # each element in a Pipeline is mainly a step related to a different technique \n",
    "    ('transformer', final_transformer),  # transformation\n",
    "    ('sampler', SMOTE()), # another transformer;\n",
    "    ('dim_reduction', PCA(n_components=0.8)), # dimensionality reduction, if we want\n",
    "    ('classifier', Perceptron()) # classifier, of course - there is a placeholder Perceptron, BUT it can be subsittuted with other model\n",
    "])"
   ],
   "metadata": {
    "collapsed": false,
    "ExecuteTime": {
     "end_time": "2024-07-04T16:47:12.049681Z",
     "start_time": "2024-07-04T16:47:12.044631Z"
    }
   },
   "id": "f158f004fe8e0fa7",
   "execution_count": 16
  },
  {
   "cell_type": "code",
   "outputs": [
    {
     "data": {
      "text/plain": "Pipeline(steps=[('transformer',\n                 ColumnTransformer(sparse_threshold=0,\n                                   transformers=[('categories',\n                                                  Pipeline(steps=[('event_changer',\n                                                                   EventTransformer(mapping={'  ': 0,\n                                                                                             ' C': 2,\n                                                                                             ' G': 3,\n                                                                                             ' I': 4,\n                                                                                             ' L': 1,\n                                                                                             ' P': 6,\n                                                                                             ' R': 5,\n                                                                                             ' S': 8,\n                                                                                             ' T': 9,\n                                                                                             ' W': 7})),\n                                                                  ('scaler',\n                                                                   StandardScaler())]),\n                                                  ['Event']),\n                                                 ('winds_of_change',\n                                                  Pipeline(steps=[('imp',\n                                                                   SimpleImputer()),\n                                                                  ('scaler',\n                                                                   StandardScaler())]),\n                                                  ['T...\n                                                   'High Wind NW']),\n                                                 ('coords',\n                                                  Pipeline(steps=[('transform',\n                                                                   CoordinateTransformer()),\n                                                                  ('scaler',\n                                                                   StandardScaler())]),\n                                                  ['Latitude', 'Longitude']),\n                                                 ('dates',\n                                                  Pipeline(steps=[('change_dates',\n                                                                   DateTransformer()),\n                                                                  ('scaler',\n                                                                   StandardScaler())]),\n                                                  ['Date'])],\n                                   verbose_feature_names_out=False)),\n                ('sampler', SMOTE()), ('dim_reduction', PCA(n_components=0.8)),\n                ('classifier', Perceptron())])",
      "text/html": "<style>#sk-container-id-1 {\n  /* Definition of color scheme common for light and dark mode */\n  --sklearn-color-text: black;\n  --sklearn-color-line: gray;\n  /* Definition of color scheme for unfitted estimators */\n  --sklearn-color-unfitted-level-0: #fff5e6;\n  --sklearn-color-unfitted-level-1: #f6e4d2;\n  --sklearn-color-unfitted-level-2: #ffe0b3;\n  --sklearn-color-unfitted-level-3: chocolate;\n  /* Definition of color scheme for fitted estimators */\n  --sklearn-color-fitted-level-0: #f0f8ff;\n  --sklearn-color-fitted-level-1: #d4ebff;\n  --sklearn-color-fitted-level-2: #b3dbfd;\n  --sklearn-color-fitted-level-3: cornflowerblue;\n\n  /* Specific color for light theme */\n  --sklearn-color-text-on-default-background: var(--sg-text-color, var(--theme-code-foreground, var(--jp-content-font-color1, black)));\n  --sklearn-color-background: var(--sg-background-color, var(--theme-background, var(--jp-layout-color0, white)));\n  --sklearn-color-border-box: var(--sg-text-color, var(--theme-code-foreground, var(--jp-content-font-color1, black)));\n  --sklearn-color-icon: #696969;\n\n  @media (prefers-color-scheme: dark) {\n    /* Redefinition of color scheme for dark theme */\n    --sklearn-color-text-on-default-background: var(--sg-text-color, var(--theme-code-foreground, var(--jp-content-font-color1, white)));\n    --sklearn-color-background: var(--sg-background-color, var(--theme-background, var(--jp-layout-color0, #111)));\n    --sklearn-color-border-box: var(--sg-text-color, var(--theme-code-foreground, var(--jp-content-font-color1, white)));\n    --sklearn-color-icon: #878787;\n  }\n}\n\n#sk-container-id-1 {\n  color: var(--sklearn-color-text);\n}\n\n#sk-container-id-1 pre {\n  padding: 0;\n}\n\n#sk-container-id-1 input.sk-hidden--visually {\n  border: 0;\n  clip: rect(1px 1px 1px 1px);\n  clip: rect(1px, 1px, 1px, 1px);\n  height: 1px;\n  margin: -1px;\n  overflow: hidden;\n  padding: 0;\n  position: absolute;\n  width: 1px;\n}\n\n#sk-container-id-1 div.sk-dashed-wrapped {\n  border: 1px dashed var(--sklearn-color-line);\n  margin: 0 0.4em 0.5em 0.4em;\n  box-sizing: border-box;\n  padding-bottom: 0.4em;\n  background-color: var(--sklearn-color-background);\n}\n\n#sk-container-id-1 div.sk-container {\n  /* jupyter's `normalize.less` sets `[hidden] { display: none; }`\n     but bootstrap.min.css set `[hidden] { display: none !important; }`\n     so we also need the `!important` here to be able to override the\n     default hidden behavior on the sphinx rendered scikit-learn.org.\n     See: https://github.com/scikit-learn/scikit-learn/issues/21755 */\n  display: inline-block !important;\n  position: relative;\n}\n\n#sk-container-id-1 div.sk-text-repr-fallback {\n  display: none;\n}\n\ndiv.sk-parallel-item,\ndiv.sk-serial,\ndiv.sk-item {\n  /* draw centered vertical line to link estimators */\n  background-image: linear-gradient(var(--sklearn-color-text-on-default-background), var(--sklearn-color-text-on-default-background));\n  background-size: 2px 100%;\n  background-repeat: no-repeat;\n  background-position: center center;\n}\n\n/* Parallel-specific style estimator block */\n\n#sk-container-id-1 div.sk-parallel-item::after {\n  content: \"\";\n  width: 100%;\n  border-bottom: 2px solid var(--sklearn-color-text-on-default-background);\n  flex-grow: 1;\n}\n\n#sk-container-id-1 div.sk-parallel {\n  display: flex;\n  align-items: stretch;\n  justify-content: center;\n  background-color: var(--sklearn-color-background);\n  position: relative;\n}\n\n#sk-container-id-1 div.sk-parallel-item {\n  display: flex;\n  flex-direction: column;\n}\n\n#sk-container-id-1 div.sk-parallel-item:first-child::after {\n  align-self: flex-end;\n  width: 50%;\n}\n\n#sk-container-id-1 div.sk-parallel-item:last-child::after {\n  align-self: flex-start;\n  width: 50%;\n}\n\n#sk-container-id-1 div.sk-parallel-item:only-child::after {\n  width: 0;\n}\n\n/* Serial-specific style estimator block */\n\n#sk-container-id-1 div.sk-serial {\n  display: flex;\n  flex-direction: column;\n  align-items: center;\n  background-color: var(--sklearn-color-background);\n  padding-right: 1em;\n  padding-left: 1em;\n}\n\n\n/* Toggleable style: style used for estimator/Pipeline/ColumnTransformer box that is\nclickable and can be expanded/collapsed.\n- Pipeline and ColumnTransformer use this feature and define the default style\n- Estimators will overwrite some part of the style using the `sk-estimator` class\n*/\n\n/* Pipeline and ColumnTransformer style (default) */\n\n#sk-container-id-1 div.sk-toggleable {\n  /* Default theme specific background. It is overwritten whether we have a\n  specific estimator or a Pipeline/ColumnTransformer */\n  background-color: var(--sklearn-color-background);\n}\n\n/* Toggleable label */\n#sk-container-id-1 label.sk-toggleable__label {\n  cursor: pointer;\n  display: block;\n  width: 100%;\n  margin-bottom: 0;\n  padding: 0.5em;\n  box-sizing: border-box;\n  text-align: center;\n}\n\n#sk-container-id-1 label.sk-toggleable__label-arrow:before {\n  /* Arrow on the left of the label */\n  content: \"▸\";\n  float: left;\n  margin-right: 0.25em;\n  color: var(--sklearn-color-icon);\n}\n\n#sk-container-id-1 label.sk-toggleable__label-arrow:hover:before {\n  color: var(--sklearn-color-text);\n}\n\n/* Toggleable content - dropdown */\n\n#sk-container-id-1 div.sk-toggleable__content {\n  max-height: 0;\n  max-width: 0;\n  overflow: hidden;\n  text-align: left;\n  /* unfitted */\n  background-color: var(--sklearn-color-unfitted-level-0);\n}\n\n#sk-container-id-1 div.sk-toggleable__content.fitted {\n  /* fitted */\n  background-color: var(--sklearn-color-fitted-level-0);\n}\n\n#sk-container-id-1 div.sk-toggleable__content pre {\n  margin: 0.2em;\n  border-radius: 0.25em;\n  color: var(--sklearn-color-text);\n  /* unfitted */\n  background-color: var(--sklearn-color-unfitted-level-0);\n}\n\n#sk-container-id-1 div.sk-toggleable__content.fitted pre {\n  /* unfitted */\n  background-color: var(--sklearn-color-fitted-level-0);\n}\n\n#sk-container-id-1 input.sk-toggleable__control:checked~div.sk-toggleable__content {\n  /* Expand drop-down */\n  max-height: 200px;\n  max-width: 100%;\n  overflow: auto;\n}\n\n#sk-container-id-1 input.sk-toggleable__control:checked~label.sk-toggleable__label-arrow:before {\n  content: \"▾\";\n}\n\n/* Pipeline/ColumnTransformer-specific style */\n\n#sk-container-id-1 div.sk-label input.sk-toggleable__control:checked~label.sk-toggleable__label {\n  color: var(--sklearn-color-text);\n  background-color: var(--sklearn-color-unfitted-level-2);\n}\n\n#sk-container-id-1 div.sk-label.fitted input.sk-toggleable__control:checked~label.sk-toggleable__label {\n  background-color: var(--sklearn-color-fitted-level-2);\n}\n\n/* Estimator-specific style */\n\n/* Colorize estimator box */\n#sk-container-id-1 div.sk-estimator input.sk-toggleable__control:checked~label.sk-toggleable__label {\n  /* unfitted */\n  background-color: var(--sklearn-color-unfitted-level-2);\n}\n\n#sk-container-id-1 div.sk-estimator.fitted input.sk-toggleable__control:checked~label.sk-toggleable__label {\n  /* fitted */\n  background-color: var(--sklearn-color-fitted-level-2);\n}\n\n#sk-container-id-1 div.sk-label label.sk-toggleable__label,\n#sk-container-id-1 div.sk-label label {\n  /* The background is the default theme color */\n  color: var(--sklearn-color-text-on-default-background);\n}\n\n/* On hover, darken the color of the background */\n#sk-container-id-1 div.sk-label:hover label.sk-toggleable__label {\n  color: var(--sklearn-color-text);\n  background-color: var(--sklearn-color-unfitted-level-2);\n}\n\n/* Label box, darken color on hover, fitted */\n#sk-container-id-1 div.sk-label.fitted:hover label.sk-toggleable__label.fitted {\n  color: var(--sklearn-color-text);\n  background-color: var(--sklearn-color-fitted-level-2);\n}\n\n/* Estimator label */\n\n#sk-container-id-1 div.sk-label label {\n  font-family: monospace;\n  font-weight: bold;\n  display: inline-block;\n  line-height: 1.2em;\n}\n\n#sk-container-id-1 div.sk-label-container {\n  text-align: center;\n}\n\n/* Estimator-specific */\n#sk-container-id-1 div.sk-estimator {\n  font-family: monospace;\n  border: 1px dotted var(--sklearn-color-border-box);\n  border-radius: 0.25em;\n  box-sizing: border-box;\n  margin-bottom: 0.5em;\n  /* unfitted */\n  background-color: var(--sklearn-color-unfitted-level-0);\n}\n\n#sk-container-id-1 div.sk-estimator.fitted {\n  /* fitted */\n  background-color: var(--sklearn-color-fitted-level-0);\n}\n\n/* on hover */\n#sk-container-id-1 div.sk-estimator:hover {\n  /* unfitted */\n  background-color: var(--sklearn-color-unfitted-level-2);\n}\n\n#sk-container-id-1 div.sk-estimator.fitted:hover {\n  /* fitted */\n  background-color: var(--sklearn-color-fitted-level-2);\n}\n\n/* Specification for estimator info (e.g. \"i\" and \"?\") */\n\n/* Common style for \"i\" and \"?\" */\n\n.sk-estimator-doc-link,\na:link.sk-estimator-doc-link,\na:visited.sk-estimator-doc-link {\n  float: right;\n  font-size: smaller;\n  line-height: 1em;\n  font-family: monospace;\n  background-color: var(--sklearn-color-background);\n  border-radius: 1em;\n  height: 1em;\n  width: 1em;\n  text-decoration: none !important;\n  margin-left: 1ex;\n  /* unfitted */\n  border: var(--sklearn-color-unfitted-level-1) 1pt solid;\n  color: var(--sklearn-color-unfitted-level-1);\n}\n\n.sk-estimator-doc-link.fitted,\na:link.sk-estimator-doc-link.fitted,\na:visited.sk-estimator-doc-link.fitted {\n  /* fitted */\n  border: var(--sklearn-color-fitted-level-1) 1pt solid;\n  color: var(--sklearn-color-fitted-level-1);\n}\n\n/* On hover */\ndiv.sk-estimator:hover .sk-estimator-doc-link:hover,\n.sk-estimator-doc-link:hover,\ndiv.sk-label-container:hover .sk-estimator-doc-link:hover,\n.sk-estimator-doc-link:hover {\n  /* unfitted */\n  background-color: var(--sklearn-color-unfitted-level-3);\n  color: var(--sklearn-color-background);\n  text-decoration: none;\n}\n\ndiv.sk-estimator.fitted:hover .sk-estimator-doc-link.fitted:hover,\n.sk-estimator-doc-link.fitted:hover,\ndiv.sk-label-container:hover .sk-estimator-doc-link.fitted:hover,\n.sk-estimator-doc-link.fitted:hover {\n  /* fitted */\n  background-color: var(--sklearn-color-fitted-level-3);\n  color: var(--sklearn-color-background);\n  text-decoration: none;\n}\n\n/* Span, style for the box shown on hovering the info icon */\n.sk-estimator-doc-link span {\n  display: none;\n  z-index: 9999;\n  position: relative;\n  font-weight: normal;\n  right: .2ex;\n  padding: .5ex;\n  margin: .5ex;\n  width: min-content;\n  min-width: 20ex;\n  max-width: 50ex;\n  color: var(--sklearn-color-text);\n  box-shadow: 2pt 2pt 4pt #999;\n  /* unfitted */\n  background: var(--sklearn-color-unfitted-level-0);\n  border: .5pt solid var(--sklearn-color-unfitted-level-3);\n}\n\n.sk-estimator-doc-link.fitted span {\n  /* fitted */\n  background: var(--sklearn-color-fitted-level-0);\n  border: var(--sklearn-color-fitted-level-3);\n}\n\n.sk-estimator-doc-link:hover span {\n  display: block;\n}\n\n/* \"?\"-specific style due to the `<a>` HTML tag */\n\n#sk-container-id-1 a.estimator_doc_link {\n  float: right;\n  font-size: 1rem;\n  line-height: 1em;\n  font-family: monospace;\n  background-color: var(--sklearn-color-background);\n  border-radius: 1rem;\n  height: 1rem;\n  width: 1rem;\n  text-decoration: none;\n  /* unfitted */\n  color: var(--sklearn-color-unfitted-level-1);\n  border: var(--sklearn-color-unfitted-level-1) 1pt solid;\n}\n\n#sk-container-id-1 a.estimator_doc_link.fitted {\n  /* fitted */\n  border: var(--sklearn-color-fitted-level-1) 1pt solid;\n  color: var(--sklearn-color-fitted-level-1);\n}\n\n/* On hover */\n#sk-container-id-1 a.estimator_doc_link:hover {\n  /* unfitted */\n  background-color: var(--sklearn-color-unfitted-level-3);\n  color: var(--sklearn-color-background);\n  text-decoration: none;\n}\n\n#sk-container-id-1 a.estimator_doc_link.fitted:hover {\n  /* fitted */\n  background-color: var(--sklearn-color-fitted-level-3);\n}\n</style><div id=\"sk-container-id-1\" class=\"sk-top-container\"><div class=\"sk-text-repr-fallback\"><pre>Pipeline(steps=[(&#x27;transformer&#x27;,\n                 ColumnTransformer(sparse_threshold=0,\n                                   transformers=[(&#x27;categories&#x27;,\n                                                  Pipeline(steps=[(&#x27;event_changer&#x27;,\n                                                                   EventTransformer(mapping={&#x27;  &#x27;: 0,\n                                                                                             &#x27; C&#x27;: 2,\n                                                                                             &#x27; G&#x27;: 3,\n                                                                                             &#x27; I&#x27;: 4,\n                                                                                             &#x27; L&#x27;: 1,\n                                                                                             &#x27; P&#x27;: 6,\n                                                                                             &#x27; R&#x27;: 5,\n                                                                                             &#x27; S&#x27;: 8,\n                                                                                             &#x27; T&#x27;: 9,\n                                                                                             &#x27; W&#x27;: 7})),\n                                                                  (&#x27;scaler&#x27;,\n                                                                   StandardScaler())]),\n                                                  [&#x27;Event&#x27;]),\n                                                 (&#x27;winds_of_change&#x27;,\n                                                  Pipeline(steps=[(&#x27;imp&#x27;,\n                                                                   SimpleImputer()),\n                                                                  (&#x27;scaler&#x27;,\n                                                                   StandardScaler())]),\n                                                  [&#x27;T...\n                                                   &#x27;High Wind NW&#x27;]),\n                                                 (&#x27;coords&#x27;,\n                                                  Pipeline(steps=[(&#x27;transform&#x27;,\n                                                                   CoordinateTransformer()),\n                                                                  (&#x27;scaler&#x27;,\n                                                                   StandardScaler())]),\n                                                  [&#x27;Latitude&#x27;, &#x27;Longitude&#x27;]),\n                                                 (&#x27;dates&#x27;,\n                                                  Pipeline(steps=[(&#x27;change_dates&#x27;,\n                                                                   DateTransformer()),\n                                                                  (&#x27;scaler&#x27;,\n                                                                   StandardScaler())]),\n                                                  [&#x27;Date&#x27;])],\n                                   verbose_feature_names_out=False)),\n                (&#x27;sampler&#x27;, SMOTE()), (&#x27;dim_reduction&#x27;, PCA(n_components=0.8)),\n                (&#x27;classifier&#x27;, Perceptron())])</pre><b>In a Jupyter environment, please rerun this cell to show the HTML representation or trust the notebook. <br />On GitHub, the HTML representation is unable to render, please try loading this page with nbviewer.org.</b></div><div class=\"sk-container\" hidden><div class=\"sk-item sk-dashed-wrapped\"><div class=\"sk-label-container\"><div class=\"sk-label fitted sk-toggleable\"><input class=\"sk-toggleable__control sk-hidden--visually\" id=\"sk-estimator-id-1\" type=\"checkbox\" ><label for=\"sk-estimator-id-1\" class=\"sk-toggleable__label fitted sk-toggleable__label-arrow fitted\">&nbsp;Pipeline<span class=\"sk-estimator-doc-link fitted\">i<span>Fitted</span></span></label><div class=\"sk-toggleable__content fitted\"><pre>Pipeline(steps=[(&#x27;transformer&#x27;,\n                 ColumnTransformer(sparse_threshold=0,\n                                   transformers=[(&#x27;categories&#x27;,\n                                                  Pipeline(steps=[(&#x27;event_changer&#x27;,\n                                                                   EventTransformer(mapping={&#x27;  &#x27;: 0,\n                                                                                             &#x27; C&#x27;: 2,\n                                                                                             &#x27; G&#x27;: 3,\n                                                                                             &#x27; I&#x27;: 4,\n                                                                                             &#x27; L&#x27;: 1,\n                                                                                             &#x27; P&#x27;: 6,\n                                                                                             &#x27; R&#x27;: 5,\n                                                                                             &#x27; S&#x27;: 8,\n                                                                                             &#x27; T&#x27;: 9,\n                                                                                             &#x27; W&#x27;: 7})),\n                                                                  (&#x27;scaler&#x27;,\n                                                                   StandardScaler())]),\n                                                  [&#x27;Event&#x27;]),\n                                                 (&#x27;winds_of_change&#x27;,\n                                                  Pipeline(steps=[(&#x27;imp&#x27;,\n                                                                   SimpleImputer()),\n                                                                  (&#x27;scaler&#x27;,\n                                                                   StandardScaler())]),\n                                                  [&#x27;T...\n                                                   &#x27;High Wind NW&#x27;]),\n                                                 (&#x27;coords&#x27;,\n                                                  Pipeline(steps=[(&#x27;transform&#x27;,\n                                                                   CoordinateTransformer()),\n                                                                  (&#x27;scaler&#x27;,\n                                                                   StandardScaler())]),\n                                                  [&#x27;Latitude&#x27;, &#x27;Longitude&#x27;]),\n                                                 (&#x27;dates&#x27;,\n                                                  Pipeline(steps=[(&#x27;change_dates&#x27;,\n                                                                   DateTransformer()),\n                                                                  (&#x27;scaler&#x27;,\n                                                                   StandardScaler())]),\n                                                  [&#x27;Date&#x27;])],\n                                   verbose_feature_names_out=False)),\n                (&#x27;sampler&#x27;, SMOTE()), (&#x27;dim_reduction&#x27;, PCA(n_components=0.8)),\n                (&#x27;classifier&#x27;, Perceptron())])</pre></div> </div></div><div class=\"sk-serial\"><div class=\"sk-item sk-dashed-wrapped\"><div class=\"sk-label-container\"><div class=\"sk-label fitted sk-toggleable\"><input class=\"sk-toggleable__control sk-hidden--visually\" id=\"sk-estimator-id-2\" type=\"checkbox\" ><label for=\"sk-estimator-id-2\" class=\"sk-toggleable__label fitted sk-toggleable__label-arrow fitted\">&nbsp;transformer: ColumnTransformer<a class=\"sk-estimator-doc-link fitted\" rel=\"noreferrer\" target=\"_blank\" href=\"https://scikit-learn.org/1.4/modules/generated/sklearn.compose.ColumnTransformer.html\">?<span>Documentation for transformer: ColumnTransformer</span></a></label><div class=\"sk-toggleable__content fitted\"><pre>ColumnTransformer(sparse_threshold=0,\n                  transformers=[(&#x27;categories&#x27;,\n                                 Pipeline(steps=[(&#x27;event_changer&#x27;,\n                                                  EventTransformer(mapping={&#x27;  &#x27;: 0,\n                                                                            &#x27; C&#x27;: 2,\n                                                                            &#x27; G&#x27;: 3,\n                                                                            &#x27; I&#x27;: 4,\n                                                                            &#x27; L&#x27;: 1,\n                                                                            &#x27; P&#x27;: 6,\n                                                                            &#x27; R&#x27;: 5,\n                                                                            &#x27; S&#x27;: 8,\n                                                                            &#x27; T&#x27;: 9,\n                                                                            &#x27; W&#x27;: 7})),\n                                                 (&#x27;scaler&#x27;, StandardScaler())]),\n                                 [&#x27;Event&#x27;]),\n                                (&#x27;winds_of_change&#x27;,\n                                 Pipeline(steps=[(&#x27;imp&#x27;, SimpleImputer()),\n                                                 (&#x27;scaler&#x27;, StandardScaler())]),\n                                 [&#x27;Time&#x27;, &#x27;Maximum Wind&#x27;, &#x27;Minimum Pres...\n                                  &#x27;Moderate Wind SE&#x27;, &#x27;Moderate Wind SW&#x27;,\n                                  &#x27;Moderate Wind NW&#x27;, &#x27;High Wind NE&#x27;,\n                                  &#x27;High Wind SE&#x27;, &#x27;High Wind SW&#x27;,\n                                  &#x27;High Wind NW&#x27;]),\n                                (&#x27;coords&#x27;,\n                                 Pipeline(steps=[(&#x27;transform&#x27;,\n                                                  CoordinateTransformer()),\n                                                 (&#x27;scaler&#x27;, StandardScaler())]),\n                                 [&#x27;Latitude&#x27;, &#x27;Longitude&#x27;]),\n                                (&#x27;dates&#x27;,\n                                 Pipeline(steps=[(&#x27;change_dates&#x27;,\n                                                  DateTransformer()),\n                                                 (&#x27;scaler&#x27;, StandardScaler())]),\n                                 [&#x27;Date&#x27;])],\n                  verbose_feature_names_out=False)</pre></div> </div></div><div class=\"sk-parallel\"><div class=\"sk-parallel-item\"><div class=\"sk-item\"><div class=\"sk-label-container\"><div class=\"sk-label fitted sk-toggleable\"><input class=\"sk-toggleable__control sk-hidden--visually\" id=\"sk-estimator-id-3\" type=\"checkbox\" ><label for=\"sk-estimator-id-3\" class=\"sk-toggleable__label fitted sk-toggleable__label-arrow fitted\">categories</label><div class=\"sk-toggleable__content fitted\"><pre>[&#x27;Event&#x27;]</pre></div> </div></div><div class=\"sk-serial\"><div class=\"sk-item\"><div class=\"sk-serial\"><div class=\"sk-item\"><div class=\"sk-estimator fitted sk-toggleable\"><input class=\"sk-toggleable__control sk-hidden--visually\" id=\"sk-estimator-id-4\" type=\"checkbox\" ><label for=\"sk-estimator-id-4\" class=\"sk-toggleable__label fitted sk-toggleable__label-arrow fitted\">EventTransformer</label><div class=\"sk-toggleable__content fitted\"><pre>EventTransformer(mapping={&#x27;  &#x27;: 0, &#x27; C&#x27;: 2, &#x27; G&#x27;: 3, &#x27; I&#x27;: 4, &#x27; L&#x27;: 1, &#x27; P&#x27;: 6,\n                          &#x27; R&#x27;: 5, &#x27; S&#x27;: 8, &#x27; T&#x27;: 9, &#x27; W&#x27;: 7})</pre></div> </div></div><div class=\"sk-item\"><div class=\"sk-estimator fitted sk-toggleable\"><input class=\"sk-toggleable__control sk-hidden--visually\" id=\"sk-estimator-id-5\" type=\"checkbox\" ><label for=\"sk-estimator-id-5\" class=\"sk-toggleable__label fitted sk-toggleable__label-arrow fitted\">&nbsp;StandardScaler<a class=\"sk-estimator-doc-link fitted\" rel=\"noreferrer\" target=\"_blank\" href=\"https://scikit-learn.org/1.4/modules/generated/sklearn.preprocessing.StandardScaler.html\">?<span>Documentation for StandardScaler</span></a></label><div class=\"sk-toggleable__content fitted\"><pre>StandardScaler()</pre></div> </div></div></div></div></div></div></div><div class=\"sk-parallel-item\"><div class=\"sk-item\"><div class=\"sk-label-container\"><div class=\"sk-label fitted sk-toggleable\"><input class=\"sk-toggleable__control sk-hidden--visually\" id=\"sk-estimator-id-6\" type=\"checkbox\" ><label for=\"sk-estimator-id-6\" class=\"sk-toggleable__label fitted sk-toggleable__label-arrow fitted\">winds_of_change</label><div class=\"sk-toggleable__content fitted\"><pre>[&#x27;Time&#x27;, &#x27;Maximum Wind&#x27;, &#x27;Minimum Pressure&#x27;, &#x27;Low Wind NE&#x27;, &#x27;Low Wind SE&#x27;, &#x27;Low Wind SW&#x27;, &#x27;Low Wind NW&#x27;, &#x27;Moderate Wind NE&#x27;, &#x27;Moderate Wind SE&#x27;, &#x27;Moderate Wind SW&#x27;, &#x27;Moderate Wind NW&#x27;, &#x27;High Wind NE&#x27;, &#x27;High Wind SE&#x27;, &#x27;High Wind SW&#x27;, &#x27;High Wind NW&#x27;]</pre></div> </div></div><div class=\"sk-serial\"><div class=\"sk-item\"><div class=\"sk-serial\"><div class=\"sk-item\"><div class=\"sk-estimator fitted sk-toggleable\"><input class=\"sk-toggleable__control sk-hidden--visually\" id=\"sk-estimator-id-7\" type=\"checkbox\" ><label for=\"sk-estimator-id-7\" class=\"sk-toggleable__label fitted sk-toggleable__label-arrow fitted\">&nbsp;SimpleImputer<a class=\"sk-estimator-doc-link fitted\" rel=\"noreferrer\" target=\"_blank\" href=\"https://scikit-learn.org/1.4/modules/generated/sklearn.impute.SimpleImputer.html\">?<span>Documentation for SimpleImputer</span></a></label><div class=\"sk-toggleable__content fitted\"><pre>SimpleImputer()</pre></div> </div></div><div class=\"sk-item\"><div class=\"sk-estimator fitted sk-toggleable\"><input class=\"sk-toggleable__control sk-hidden--visually\" id=\"sk-estimator-id-8\" type=\"checkbox\" ><label for=\"sk-estimator-id-8\" class=\"sk-toggleable__label fitted sk-toggleable__label-arrow fitted\">&nbsp;StandardScaler<a class=\"sk-estimator-doc-link fitted\" rel=\"noreferrer\" target=\"_blank\" href=\"https://scikit-learn.org/1.4/modules/generated/sklearn.preprocessing.StandardScaler.html\">?<span>Documentation for StandardScaler</span></a></label><div class=\"sk-toggleable__content fitted\"><pre>StandardScaler()</pre></div> </div></div></div></div></div></div></div><div class=\"sk-parallel-item\"><div class=\"sk-item\"><div class=\"sk-label-container\"><div class=\"sk-label fitted sk-toggleable\"><input class=\"sk-toggleable__control sk-hidden--visually\" id=\"sk-estimator-id-9\" type=\"checkbox\" ><label for=\"sk-estimator-id-9\" class=\"sk-toggleable__label fitted sk-toggleable__label-arrow fitted\">coords</label><div class=\"sk-toggleable__content fitted\"><pre>[&#x27;Latitude&#x27;, &#x27;Longitude&#x27;]</pre></div> </div></div><div class=\"sk-serial\"><div class=\"sk-item\"><div class=\"sk-serial\"><div class=\"sk-item\"><div class=\"sk-estimator fitted sk-toggleable\"><input class=\"sk-toggleable__control sk-hidden--visually\" id=\"sk-estimator-id-10\" type=\"checkbox\" ><label for=\"sk-estimator-id-10\" class=\"sk-toggleable__label fitted sk-toggleable__label-arrow fitted\">CoordinateTransformer</label><div class=\"sk-toggleable__content fitted\"><pre>CoordinateTransformer()</pre></div> </div></div><div class=\"sk-item\"><div class=\"sk-estimator fitted sk-toggleable\"><input class=\"sk-toggleable__control sk-hidden--visually\" id=\"sk-estimator-id-11\" type=\"checkbox\" ><label for=\"sk-estimator-id-11\" class=\"sk-toggleable__label fitted sk-toggleable__label-arrow fitted\">&nbsp;StandardScaler<a class=\"sk-estimator-doc-link fitted\" rel=\"noreferrer\" target=\"_blank\" href=\"https://scikit-learn.org/1.4/modules/generated/sklearn.preprocessing.StandardScaler.html\">?<span>Documentation for StandardScaler</span></a></label><div class=\"sk-toggleable__content fitted\"><pre>StandardScaler()</pre></div> </div></div></div></div></div></div></div><div class=\"sk-parallel-item\"><div class=\"sk-item\"><div class=\"sk-label-container\"><div class=\"sk-label fitted sk-toggleable\"><input class=\"sk-toggleable__control sk-hidden--visually\" id=\"sk-estimator-id-12\" type=\"checkbox\" ><label for=\"sk-estimator-id-12\" class=\"sk-toggleable__label fitted sk-toggleable__label-arrow fitted\">dates</label><div class=\"sk-toggleable__content fitted\"><pre>[&#x27;Date&#x27;]</pre></div> </div></div><div class=\"sk-serial\"><div class=\"sk-item\"><div class=\"sk-serial\"><div class=\"sk-item\"><div class=\"sk-estimator fitted sk-toggleable\"><input class=\"sk-toggleable__control sk-hidden--visually\" id=\"sk-estimator-id-13\" type=\"checkbox\" ><label for=\"sk-estimator-id-13\" class=\"sk-toggleable__label fitted sk-toggleable__label-arrow fitted\">DateTransformer</label><div class=\"sk-toggleable__content fitted\"><pre>DateTransformer()</pre></div> </div></div><div class=\"sk-item\"><div class=\"sk-estimator fitted sk-toggleable\"><input class=\"sk-toggleable__control sk-hidden--visually\" id=\"sk-estimator-id-14\" type=\"checkbox\" ><label for=\"sk-estimator-id-14\" class=\"sk-toggleable__label fitted sk-toggleable__label-arrow fitted\">&nbsp;StandardScaler<a class=\"sk-estimator-doc-link fitted\" rel=\"noreferrer\" target=\"_blank\" href=\"https://scikit-learn.org/1.4/modules/generated/sklearn.preprocessing.StandardScaler.html\">?<span>Documentation for StandardScaler</span></a></label><div class=\"sk-toggleable__content fitted\"><pre>StandardScaler()</pre></div> </div></div></div></div></div></div></div></div></div><div class=\"sk-item\"><div class=\"sk-estimator fitted sk-toggleable\"><input class=\"sk-toggleable__control sk-hidden--visually\" id=\"sk-estimator-id-15\" type=\"checkbox\" ><label for=\"sk-estimator-id-15\" class=\"sk-toggleable__label fitted sk-toggleable__label-arrow fitted\">SMOTE</label><div class=\"sk-toggleable__content fitted\"><pre>SMOTE()</pre></div> </div></div><div class=\"sk-item\"><div class=\"sk-estimator fitted sk-toggleable\"><input class=\"sk-toggleable__control sk-hidden--visually\" id=\"sk-estimator-id-16\" type=\"checkbox\" ><label for=\"sk-estimator-id-16\" class=\"sk-toggleable__label fitted sk-toggleable__label-arrow fitted\">&nbsp;PCA<a class=\"sk-estimator-doc-link fitted\" rel=\"noreferrer\" target=\"_blank\" href=\"https://scikit-learn.org/1.4/modules/generated/sklearn.decomposition.PCA.html\">?<span>Documentation for PCA</span></a></label><div class=\"sk-toggleable__content fitted\"><pre>PCA(n_components=0.8)</pre></div> </div></div><div class=\"sk-item\"><div class=\"sk-estimator fitted sk-toggleable\"><input class=\"sk-toggleable__control sk-hidden--visually\" id=\"sk-estimator-id-17\" type=\"checkbox\" ><label for=\"sk-estimator-id-17\" class=\"sk-toggleable__label fitted sk-toggleable__label-arrow fitted\">&nbsp;Perceptron<a class=\"sk-estimator-doc-link fitted\" rel=\"noreferrer\" target=\"_blank\" href=\"https://scikit-learn.org/1.4/modules/generated/sklearn.linear_model.Perceptron.html\">?<span>Documentation for Perceptron</span></a></label><div class=\"sk-toggleable__content fitted\"><pre>Perceptron()</pre></div> </div></div></div></div></div></div>"
     },
     "execution_count": 17,
     "metadata": {},
     "output_type": "execute_result"
    }
   ],
   "source": [
    "model_pipeline.fit(X_train, y_train) # just a check that al the elements are correctly defined; can be omitted"
   ],
   "metadata": {
    "collapsed": false,
    "ExecuteTime": {
     "end_time": "2024-07-04T16:47:14.190865Z",
     "start_time": "2024-07-04T16:47:12.051232Z"
    }
   },
   "id": "6df9451dcf3fa723",
   "execution_count": 17
  },
  {
   "cell_type": "code",
   "outputs": [],
   "source": [
    "# the reason hyperparameters are called like this is because without specification (sampler, dim_reduction, etc.) we may have the case of two hyperparameters with the same name in different 'boxes' and the program will crash\n",
    "\n",
    "sampler_configs = [\n",
    "    {\n",
    "        'sampler':[None],# The element is bypassed\n",
    "    },\n",
    "    {\n",
    "        'sampler':[RandomUnderSampler()],\n",
    "        'sampler__sampling_strategy':['majority', 1.2, 0.9, 0.7]\n",
    "    },\n",
    "    {\n",
    "        'sampler':[RandomOverSampler()],\n",
    "        'sampler__sampling_strategy':['minority', 1.2, 0.9, 0.7]\n",
    "    }\n",
    "]\n",
    "\n",
    "dim_reduction_configs = [\n",
    "    {\n",
    "        'dim_reduction': [None]\n",
    "    },\n",
    "    {\n",
    "        'dim_reduction': [PCA()],\n",
    "        'dim_reduction__n_components': [0.5, 0.7, 0.8]\n",
    "    },\n",
    "    {\n",
    "        'dim_reduction': [SFS(estimator=Perceptron(), cv = None, scoring = 'f1_weighted', forward=False)], # sequential Backward Selection\n",
    "        'dim_reduction__estimator': [LogisticRegression(random_state=42, solver='saga')],\n",
    "        'dim_reduction__k_features' : [5,7,10]  \n",
    "    }\n",
    "]\n",
    "\n",
    "classifier_configs = [\n",
    "    {\n",
    "        'classifier': [KNeighborsClassifier()],\n",
    "        'classifier__n_neighbors': [5, 7, 9, 11]\n",
    "    },\n",
    "    {\n",
    "        'classifier' : [RandomForestClassifier(bootstrap=True)],\n",
    "        'classifier__n_estimators' : [50, 100, 500, 700],\n",
    "        'classifier__max_depth': [4, 6, 8, 10],\n",
    "        'classifier__criterion': ['gini', 'entropy', 'log_loss']\n",
    "    },\n",
    "    {\n",
    "        'classifier': [OneVsRestClassifier(estimator=Perceptron())],\n",
    "        'classifier__estimator': [{\n",
    "            'classifier': LogisticRegression(solver='saga', random_state=42),\n",
    "            'classifier__C': loguniform(0.001, 100),\n",
    "            'classifier__penalty': ['l1', 'l2'],\n",
    "            'classifier__class_weight': ['balanced', None]\n",
    "        }]\n",
    "    },\n",
    "    {\n",
    "        'classifier': [XGBClassifier()],\n",
    "        'classifier__n_estimators' : [100, 250, 500, 1000],\n",
    "        'classifier__learning_rate' : [0.001, 0.05, 0.01, 0.1],\n",
    "        'classifier__max_depth' : [6, 8, 10]\n",
    "    }\n",
    "]"
   ],
   "metadata": {
    "collapsed": false,
    "ExecuteTime": {
     "end_time": "2024-07-04T16:47:14.203626Z",
     "start_time": "2024-07-04T16:47:14.193755Z"
    }
   },
   "id": "824d6cb7b3c0ed4d",
   "execution_count": 18
  },
  {
   "cell_type": "code",
   "outputs": [],
   "source": [
    "all_configs = [dict(itertools.chain(*(e.items() \n",
    "for e in configuration))) \n",
    "for configuration in \n",
    "itertools.product(sampler_configs,dim_reduction_configs,classifier_configs)]"
   ],
   "metadata": {
    "collapsed": false,
    "ExecuteTime": {
     "end_time": "2024-07-04T16:47:14.211220Z",
     "start_time": "2024-07-04T16:47:14.206197Z"
    }
   },
   "id": "3a36689457a9a62e",
   "execution_count": 19
  },
  {
   "cell_type": "code",
   "outputs": [
    {
     "data": {
      "text/plain": "'Number of all possible configurations: 24'"
     },
     "execution_count": 20,
     "metadata": {},
     "output_type": "execute_result"
    }
   ],
   "source": [
    "f'Number of all possible configurations: {len(all_configs)}'"
   ],
   "metadata": {
    "collapsed": false,
    "ExecuteTime": {
     "end_time": "2024-07-04T16:47:14.217240Z",
     "start_time": "2024-07-04T16:47:14.212812Z"
    }
   },
   "id": "c985fcaaf591b133",
   "execution_count": 20
  },
  {
   "cell_type": "code",
   "outputs": [],
   "source": [
    "rs = RandomizedSearchCV(model_pipeline,\n",
    "                        param_distributions=all_configs,\n",
    "                        n_iter=len(all_configs)*5,\n",
    "                        n_jobs=-1,\n",
    "                        cv=2, \n",
    "                        scoring='f1_weighted')"
   ],
   "metadata": {
    "collapsed": false,
    "ExecuteTime": {
     "end_time": "2024-07-04T16:47:14.221624Z",
     "start_time": "2024-07-04T16:47:14.218728Z"
    }
   },
   "id": "8212991c03c5d032",
   "execution_count": 21
  },
  {
   "cell_type": "code",
   "outputs": [
    {
     "name": "stdout",
     "output_type": "stream",
     "text": [
      "[CV] END ......................................., score=0.850 total time= 7.3min\n",
      "[CV] END ......................................., score=0.849 total time= 5.4min\n",
      "[CV] END ......................................., score=0.801 total time= 4.3min\n"
     ]
    },
    {
     "name": "stderr",
     "output_type": "stream",
     "text": [
      "\n",
      "STOPPING EARLY DUE TO KEYBOARD INTERRUPT...\n",
      "STOPPING EARLY DUE TO KEYBOARD INTERRUPT...\n",
      "STOPPING EARLY DUE TO KEYBOARD INTERRUPT...\n",
      "STOPPING EARLY DUE TO KEYBOARD INTERRUPT...\n",
      "STOPPING EARLY DUE TO KEYBOARD INTERRUPT...\n",
      "STOPPING EARLY DUE TO KEYBOARD INTERRUPT..."
     ]
    },
    {
     "ename": "KeyboardInterrupt",
     "evalue": "",
     "output_type": "error",
     "traceback": [
      "\u001B[0;31m---------------------------------------------------------------------------\u001B[0m",
      "\u001B[0;31mKeyboardInterrupt\u001B[0m                         Traceback (most recent call last)",
      "Cell \u001B[0;32mIn[22], line 1\u001B[0m\n\u001B[0;32m----> 1\u001B[0m scores \u001B[38;5;241m=\u001B[39m \u001B[43mcross_validate\u001B[49m\u001B[43m(\u001B[49m\u001B[43mrs\u001B[49m\u001B[43m,\u001B[49m\u001B[43m \u001B[49m\u001B[43mX_train\u001B[49m\u001B[43m,\u001B[49m\u001B[43m \u001B[49m\u001B[43my_train\u001B[49m\u001B[43m,\u001B[49m\u001B[43m \u001B[49m\u001B[43mscoring\u001B[49m\u001B[38;5;241;43m=\u001B[39;49m\u001B[38;5;124;43m'\u001B[39;49m\u001B[38;5;124;43mf1_weighted\u001B[39;49m\u001B[38;5;124;43m'\u001B[39;49m\u001B[43m,\u001B[49m\u001B[43m \u001B[49m\n\u001B[1;32m      2\u001B[0m \u001B[43m                        \u001B[49m\u001B[43mcv\u001B[49m\u001B[38;5;241;43m=\u001B[39;49m\u001B[38;5;241;43m5\u001B[39;49m\u001B[43m,\u001B[49m\u001B[43m \u001B[49m\n\u001B[1;32m      3\u001B[0m \u001B[43m                        \u001B[49m\u001B[43mreturn_estimator\u001B[49m\u001B[38;5;241;43m=\u001B[39;49m\u001B[38;5;28;43;01mTrue\u001B[39;49;00m\u001B[43m,\u001B[49m\u001B[43m \u001B[49m\n\u001B[1;32m      4\u001B[0m \u001B[43m                        \u001B[49m\u001B[43mverbose\u001B[49m\u001B[38;5;241;43m=\u001B[39;49m\u001B[38;5;241;43m3\u001B[39;49m\u001B[43m)\u001B[49m \u001B[38;5;66;03m# 15  minutes\u001B[39;00m\n",
      "File \u001B[0;32m~/Desktop/ML-course-Labs/.venv/lib/python3.12/site-packages/sklearn/utils/_param_validation.py:213\u001B[0m, in \u001B[0;36mvalidate_params.<locals>.decorator.<locals>.wrapper\u001B[0;34m(*args, **kwargs)\u001B[0m\n\u001B[1;32m    207\u001B[0m \u001B[38;5;28;01mtry\u001B[39;00m:\n\u001B[1;32m    208\u001B[0m     \u001B[38;5;28;01mwith\u001B[39;00m config_context(\n\u001B[1;32m    209\u001B[0m         skip_parameter_validation\u001B[38;5;241m=\u001B[39m(\n\u001B[1;32m    210\u001B[0m             prefer_skip_nested_validation \u001B[38;5;129;01mor\u001B[39;00m global_skip_validation\n\u001B[1;32m    211\u001B[0m         )\n\u001B[1;32m    212\u001B[0m     ):\n\u001B[0;32m--> 213\u001B[0m         \u001B[38;5;28;01mreturn\u001B[39;00m \u001B[43mfunc\u001B[49m\u001B[43m(\u001B[49m\u001B[38;5;241;43m*\u001B[39;49m\u001B[43margs\u001B[49m\u001B[43m,\u001B[49m\u001B[43m \u001B[49m\u001B[38;5;241;43m*\u001B[39;49m\u001B[38;5;241;43m*\u001B[39;49m\u001B[43mkwargs\u001B[49m\u001B[43m)\u001B[49m\n\u001B[1;32m    214\u001B[0m \u001B[38;5;28;01mexcept\u001B[39;00m InvalidParameterError \u001B[38;5;28;01mas\u001B[39;00m e:\n\u001B[1;32m    215\u001B[0m     \u001B[38;5;66;03m# When the function is just a wrapper around an estimator, we allow\u001B[39;00m\n\u001B[1;32m    216\u001B[0m     \u001B[38;5;66;03m# the function to delegate validation to the estimator, but we replace\u001B[39;00m\n\u001B[1;32m    217\u001B[0m     \u001B[38;5;66;03m# the name of the estimator by the name of the function in the error\u001B[39;00m\n\u001B[1;32m    218\u001B[0m     \u001B[38;5;66;03m# message to avoid confusion.\u001B[39;00m\n\u001B[1;32m    219\u001B[0m     msg \u001B[38;5;241m=\u001B[39m re\u001B[38;5;241m.\u001B[39msub(\n\u001B[1;32m    220\u001B[0m         \u001B[38;5;124mr\u001B[39m\u001B[38;5;124m\"\u001B[39m\u001B[38;5;124mparameter of \u001B[39m\u001B[38;5;124m\\\u001B[39m\u001B[38;5;124mw+ must be\u001B[39m\u001B[38;5;124m\"\u001B[39m,\n\u001B[1;32m    221\u001B[0m         \u001B[38;5;124mf\u001B[39m\u001B[38;5;124m\"\u001B[39m\u001B[38;5;124mparameter of \u001B[39m\u001B[38;5;132;01m{\u001B[39;00mfunc\u001B[38;5;241m.\u001B[39m\u001B[38;5;18m__qualname__\u001B[39m\u001B[38;5;132;01m}\u001B[39;00m\u001B[38;5;124m must be\u001B[39m\u001B[38;5;124m\"\u001B[39m,\n\u001B[1;32m    222\u001B[0m         \u001B[38;5;28mstr\u001B[39m(e),\n\u001B[1;32m    223\u001B[0m     )\n",
      "File \u001B[0;32m~/Desktop/ML-course-Labs/.venv/lib/python3.12/site-packages/sklearn/model_selection/_validation.py:430\u001B[0m, in \u001B[0;36mcross_validate\u001B[0;34m(estimator, X, y, groups, scoring, cv, n_jobs, verbose, fit_params, params, pre_dispatch, return_train_score, return_estimator, return_indices, error_score)\u001B[0m\n\u001B[1;32m    427\u001B[0m \u001B[38;5;66;03m# We clone the estimator to make sure that all the folds are\u001B[39;00m\n\u001B[1;32m    428\u001B[0m \u001B[38;5;66;03m# independent, and that it is pickle-able.\u001B[39;00m\n\u001B[1;32m    429\u001B[0m parallel \u001B[38;5;241m=\u001B[39m Parallel(n_jobs\u001B[38;5;241m=\u001B[39mn_jobs, verbose\u001B[38;5;241m=\u001B[39mverbose, pre_dispatch\u001B[38;5;241m=\u001B[39mpre_dispatch)\n\u001B[0;32m--> 430\u001B[0m results \u001B[38;5;241m=\u001B[39m \u001B[43mparallel\u001B[49m\u001B[43m(\u001B[49m\n\u001B[1;32m    431\u001B[0m \u001B[43m    \u001B[49m\u001B[43mdelayed\u001B[49m\u001B[43m(\u001B[49m\u001B[43m_fit_and_score\u001B[49m\u001B[43m)\u001B[49m\u001B[43m(\u001B[49m\n\u001B[1;32m    432\u001B[0m \u001B[43m        \u001B[49m\u001B[43mclone\u001B[49m\u001B[43m(\u001B[49m\u001B[43mestimator\u001B[49m\u001B[43m)\u001B[49m\u001B[43m,\u001B[49m\n\u001B[1;32m    433\u001B[0m \u001B[43m        \u001B[49m\u001B[43mX\u001B[49m\u001B[43m,\u001B[49m\n\u001B[1;32m    434\u001B[0m \u001B[43m        \u001B[49m\u001B[43my\u001B[49m\u001B[43m,\u001B[49m\n\u001B[1;32m    435\u001B[0m \u001B[43m        \u001B[49m\u001B[43mscorer\u001B[49m\u001B[38;5;241;43m=\u001B[39;49m\u001B[43mscorers\u001B[49m\u001B[43m,\u001B[49m\n\u001B[1;32m    436\u001B[0m \u001B[43m        \u001B[49m\u001B[43mtrain\u001B[49m\u001B[38;5;241;43m=\u001B[39;49m\u001B[43mtrain\u001B[49m\u001B[43m,\u001B[49m\n\u001B[1;32m    437\u001B[0m \u001B[43m        \u001B[49m\u001B[43mtest\u001B[49m\u001B[38;5;241;43m=\u001B[39;49m\u001B[43mtest\u001B[49m\u001B[43m,\u001B[49m\n\u001B[1;32m    438\u001B[0m \u001B[43m        \u001B[49m\u001B[43mverbose\u001B[49m\u001B[38;5;241;43m=\u001B[39;49m\u001B[43mverbose\u001B[49m\u001B[43m,\u001B[49m\n\u001B[1;32m    439\u001B[0m \u001B[43m        \u001B[49m\u001B[43mparameters\u001B[49m\u001B[38;5;241;43m=\u001B[39;49m\u001B[38;5;28;43;01mNone\u001B[39;49;00m\u001B[43m,\u001B[49m\n\u001B[1;32m    440\u001B[0m \u001B[43m        \u001B[49m\u001B[43mfit_params\u001B[49m\u001B[38;5;241;43m=\u001B[39;49m\u001B[43mrouted_params\u001B[49m\u001B[38;5;241;43m.\u001B[39;49m\u001B[43mestimator\u001B[49m\u001B[38;5;241;43m.\u001B[39;49m\u001B[43mfit\u001B[49m\u001B[43m,\u001B[49m\n\u001B[1;32m    441\u001B[0m \u001B[43m        \u001B[49m\u001B[43mscore_params\u001B[49m\u001B[38;5;241;43m=\u001B[39;49m\u001B[43mrouted_params\u001B[49m\u001B[38;5;241;43m.\u001B[39;49m\u001B[43mscorer\u001B[49m\u001B[38;5;241;43m.\u001B[39;49m\u001B[43mscore\u001B[49m\u001B[43m,\u001B[49m\n\u001B[1;32m    442\u001B[0m \u001B[43m        \u001B[49m\u001B[43mreturn_train_score\u001B[49m\u001B[38;5;241;43m=\u001B[39;49m\u001B[43mreturn_train_score\u001B[49m\u001B[43m,\u001B[49m\n\u001B[1;32m    443\u001B[0m \u001B[43m        \u001B[49m\u001B[43mreturn_times\u001B[49m\u001B[38;5;241;43m=\u001B[39;49m\u001B[38;5;28;43;01mTrue\u001B[39;49;00m\u001B[43m,\u001B[49m\n\u001B[1;32m    444\u001B[0m \u001B[43m        \u001B[49m\u001B[43mreturn_estimator\u001B[49m\u001B[38;5;241;43m=\u001B[39;49m\u001B[43mreturn_estimator\u001B[49m\u001B[43m,\u001B[49m\n\u001B[1;32m    445\u001B[0m \u001B[43m        \u001B[49m\u001B[43merror_score\u001B[49m\u001B[38;5;241;43m=\u001B[39;49m\u001B[43merror_score\u001B[49m\u001B[43m,\u001B[49m\n\u001B[1;32m    446\u001B[0m \u001B[43m    \u001B[49m\u001B[43m)\u001B[49m\n\u001B[1;32m    447\u001B[0m \u001B[43m    \u001B[49m\u001B[38;5;28;43;01mfor\u001B[39;49;00m\u001B[43m \u001B[49m\u001B[43mtrain\u001B[49m\u001B[43m,\u001B[49m\u001B[43m \u001B[49m\u001B[43mtest\u001B[49m\u001B[43m \u001B[49m\u001B[38;5;129;43;01min\u001B[39;49;00m\u001B[43m \u001B[49m\u001B[43mindices\u001B[49m\n\u001B[1;32m    448\u001B[0m \u001B[43m\u001B[49m\u001B[43m)\u001B[49m\n\u001B[1;32m    450\u001B[0m _warn_or_raise_about_fit_failures(results, error_score)\n\u001B[1;32m    452\u001B[0m \u001B[38;5;66;03m# For callable scoring, the return type is only know after calling. If the\u001B[39;00m\n\u001B[1;32m    453\u001B[0m \u001B[38;5;66;03m# return type is a dictionary, the error scores can now be inserted with\u001B[39;00m\n\u001B[1;32m    454\u001B[0m \u001B[38;5;66;03m# the correct key.\u001B[39;00m\n",
      "File \u001B[0;32m~/Desktop/ML-course-Labs/.venv/lib/python3.12/site-packages/sklearn/utils/parallel.py:67\u001B[0m, in \u001B[0;36mParallel.__call__\u001B[0;34m(self, iterable)\u001B[0m\n\u001B[1;32m     62\u001B[0m config \u001B[38;5;241m=\u001B[39m get_config()\n\u001B[1;32m     63\u001B[0m iterable_with_config \u001B[38;5;241m=\u001B[39m (\n\u001B[1;32m     64\u001B[0m     (_with_config(delayed_func, config), args, kwargs)\n\u001B[1;32m     65\u001B[0m     \u001B[38;5;28;01mfor\u001B[39;00m delayed_func, args, kwargs \u001B[38;5;129;01min\u001B[39;00m iterable\n\u001B[1;32m     66\u001B[0m )\n\u001B[0;32m---> 67\u001B[0m \u001B[38;5;28;01mreturn\u001B[39;00m \u001B[38;5;28;43msuper\u001B[39;49m\u001B[43m(\u001B[49m\u001B[43m)\u001B[49m\u001B[38;5;241;43m.\u001B[39;49m\u001B[38;5;21;43m__call__\u001B[39;49m\u001B[43m(\u001B[49m\u001B[43miterable_with_config\u001B[49m\u001B[43m)\u001B[49m\n",
      "File \u001B[0;32m~/Desktop/ML-course-Labs/.venv/lib/python3.12/site-packages/joblib/parallel.py:1863\u001B[0m, in \u001B[0;36mParallel.__call__\u001B[0;34m(self, iterable)\u001B[0m\n\u001B[1;32m   1861\u001B[0m     output \u001B[38;5;241m=\u001B[39m \u001B[38;5;28mself\u001B[39m\u001B[38;5;241m.\u001B[39m_get_sequential_output(iterable)\n\u001B[1;32m   1862\u001B[0m     \u001B[38;5;28mnext\u001B[39m(output)\n\u001B[0;32m-> 1863\u001B[0m     \u001B[38;5;28;01mreturn\u001B[39;00m output \u001B[38;5;28;01mif\u001B[39;00m \u001B[38;5;28mself\u001B[39m\u001B[38;5;241m.\u001B[39mreturn_generator \u001B[38;5;28;01melse\u001B[39;00m \u001B[38;5;28;43mlist\u001B[39;49m\u001B[43m(\u001B[49m\u001B[43moutput\u001B[49m\u001B[43m)\u001B[49m\n\u001B[1;32m   1865\u001B[0m \u001B[38;5;66;03m# Let's create an ID that uniquely identifies the current call. If the\u001B[39;00m\n\u001B[1;32m   1866\u001B[0m \u001B[38;5;66;03m# call is interrupted early and that the same instance is immediately\u001B[39;00m\n\u001B[1;32m   1867\u001B[0m \u001B[38;5;66;03m# re-used, this id will be used to prevent workers that were\u001B[39;00m\n\u001B[1;32m   1868\u001B[0m \u001B[38;5;66;03m# concurrently finalizing a task from the previous call to run the\u001B[39;00m\n\u001B[1;32m   1869\u001B[0m \u001B[38;5;66;03m# callback.\u001B[39;00m\n\u001B[1;32m   1870\u001B[0m \u001B[38;5;28;01mwith\u001B[39;00m \u001B[38;5;28mself\u001B[39m\u001B[38;5;241m.\u001B[39m_lock:\n",
      "File \u001B[0;32m~/Desktop/ML-course-Labs/.venv/lib/python3.12/site-packages/joblib/parallel.py:1792\u001B[0m, in \u001B[0;36mParallel._get_sequential_output\u001B[0;34m(self, iterable)\u001B[0m\n\u001B[1;32m   1790\u001B[0m \u001B[38;5;28mself\u001B[39m\u001B[38;5;241m.\u001B[39mn_dispatched_batches \u001B[38;5;241m+\u001B[39m\u001B[38;5;241m=\u001B[39m \u001B[38;5;241m1\u001B[39m\n\u001B[1;32m   1791\u001B[0m \u001B[38;5;28mself\u001B[39m\u001B[38;5;241m.\u001B[39mn_dispatched_tasks \u001B[38;5;241m+\u001B[39m\u001B[38;5;241m=\u001B[39m \u001B[38;5;241m1\u001B[39m\n\u001B[0;32m-> 1792\u001B[0m res \u001B[38;5;241m=\u001B[39m \u001B[43mfunc\u001B[49m\u001B[43m(\u001B[49m\u001B[38;5;241;43m*\u001B[39;49m\u001B[43margs\u001B[49m\u001B[43m,\u001B[49m\u001B[43m \u001B[49m\u001B[38;5;241;43m*\u001B[39;49m\u001B[38;5;241;43m*\u001B[39;49m\u001B[43mkwargs\u001B[49m\u001B[43m)\u001B[49m\n\u001B[1;32m   1793\u001B[0m \u001B[38;5;28mself\u001B[39m\u001B[38;5;241m.\u001B[39mn_completed_tasks \u001B[38;5;241m+\u001B[39m\u001B[38;5;241m=\u001B[39m \u001B[38;5;241m1\u001B[39m\n\u001B[1;32m   1794\u001B[0m \u001B[38;5;28mself\u001B[39m\u001B[38;5;241m.\u001B[39mprint_progress()\n",
      "File \u001B[0;32m~/Desktop/ML-course-Labs/.venv/lib/python3.12/site-packages/sklearn/utils/parallel.py:129\u001B[0m, in \u001B[0;36m_FuncWrapper.__call__\u001B[0;34m(self, *args, **kwargs)\u001B[0m\n\u001B[1;32m    127\u001B[0m     config \u001B[38;5;241m=\u001B[39m {}\n\u001B[1;32m    128\u001B[0m \u001B[38;5;28;01mwith\u001B[39;00m config_context(\u001B[38;5;241m*\u001B[39m\u001B[38;5;241m*\u001B[39mconfig):\n\u001B[0;32m--> 129\u001B[0m     \u001B[38;5;28;01mreturn\u001B[39;00m \u001B[38;5;28;43mself\u001B[39;49m\u001B[38;5;241;43m.\u001B[39;49m\u001B[43mfunction\u001B[49m\u001B[43m(\u001B[49m\u001B[38;5;241;43m*\u001B[39;49m\u001B[43margs\u001B[49m\u001B[43m,\u001B[49m\u001B[43m \u001B[49m\u001B[38;5;241;43m*\u001B[39;49m\u001B[38;5;241;43m*\u001B[39;49m\u001B[43mkwargs\u001B[49m\u001B[43m)\u001B[49m\n",
      "File \u001B[0;32m~/Desktop/ML-course-Labs/.venv/lib/python3.12/site-packages/sklearn/model_selection/_validation.py:895\u001B[0m, in \u001B[0;36m_fit_and_score\u001B[0;34m(estimator, X, y, scorer, train, test, verbose, parameters, fit_params, score_params, return_train_score, return_parameters, return_n_test_samples, return_times, return_estimator, split_progress, candidate_progress, error_score)\u001B[0m\n\u001B[1;32m    893\u001B[0m         estimator\u001B[38;5;241m.\u001B[39mfit(X_train, \u001B[38;5;241m*\u001B[39m\u001B[38;5;241m*\u001B[39mfit_params)\n\u001B[1;32m    894\u001B[0m     \u001B[38;5;28;01melse\u001B[39;00m:\n\u001B[0;32m--> 895\u001B[0m         \u001B[43mestimator\u001B[49m\u001B[38;5;241;43m.\u001B[39;49m\u001B[43mfit\u001B[49m\u001B[43m(\u001B[49m\u001B[43mX_train\u001B[49m\u001B[43m,\u001B[49m\u001B[43m \u001B[49m\u001B[43my_train\u001B[49m\u001B[43m,\u001B[49m\u001B[43m \u001B[49m\u001B[38;5;241;43m*\u001B[39;49m\u001B[38;5;241;43m*\u001B[39;49m\u001B[43mfit_params\u001B[49m\u001B[43m)\u001B[49m\n\u001B[1;32m    897\u001B[0m \u001B[38;5;28;01mexcept\u001B[39;00m \u001B[38;5;167;01mException\u001B[39;00m:\n\u001B[1;32m    898\u001B[0m     \u001B[38;5;66;03m# Note fit time as time until error\u001B[39;00m\n\u001B[1;32m    899\u001B[0m     fit_time \u001B[38;5;241m=\u001B[39m time\u001B[38;5;241m.\u001B[39mtime() \u001B[38;5;241m-\u001B[39m start_time\n",
      "File \u001B[0;32m~/Desktop/ML-course-Labs/.venv/lib/python3.12/site-packages/sklearn/base.py:1474\u001B[0m, in \u001B[0;36m_fit_context.<locals>.decorator.<locals>.wrapper\u001B[0;34m(estimator, *args, **kwargs)\u001B[0m\n\u001B[1;32m   1467\u001B[0m     estimator\u001B[38;5;241m.\u001B[39m_validate_params()\n\u001B[1;32m   1469\u001B[0m \u001B[38;5;28;01mwith\u001B[39;00m config_context(\n\u001B[1;32m   1470\u001B[0m     skip_parameter_validation\u001B[38;5;241m=\u001B[39m(\n\u001B[1;32m   1471\u001B[0m         prefer_skip_nested_validation \u001B[38;5;129;01mor\u001B[39;00m global_skip_validation\n\u001B[1;32m   1472\u001B[0m     )\n\u001B[1;32m   1473\u001B[0m ):\n\u001B[0;32m-> 1474\u001B[0m     \u001B[38;5;28;01mreturn\u001B[39;00m \u001B[43mfit_method\u001B[49m\u001B[43m(\u001B[49m\u001B[43mestimator\u001B[49m\u001B[43m,\u001B[49m\u001B[43m \u001B[49m\u001B[38;5;241;43m*\u001B[39;49m\u001B[43margs\u001B[49m\u001B[43m,\u001B[49m\u001B[43m \u001B[49m\u001B[38;5;241;43m*\u001B[39;49m\u001B[38;5;241;43m*\u001B[39;49m\u001B[43mkwargs\u001B[49m\u001B[43m)\u001B[49m\n",
      "File \u001B[0;32m~/Desktop/ML-course-Labs/.venv/lib/python3.12/site-packages/sklearn/model_selection/_search.py:970\u001B[0m, in \u001B[0;36mBaseSearchCV.fit\u001B[0;34m(self, X, y, **params)\u001B[0m\n\u001B[1;32m    964\u001B[0m     results \u001B[38;5;241m=\u001B[39m \u001B[38;5;28mself\u001B[39m\u001B[38;5;241m.\u001B[39m_format_results(\n\u001B[1;32m    965\u001B[0m         all_candidate_params, n_splits, all_out, all_more_results\n\u001B[1;32m    966\u001B[0m     )\n\u001B[1;32m    968\u001B[0m     \u001B[38;5;28;01mreturn\u001B[39;00m results\n\u001B[0;32m--> 970\u001B[0m \u001B[38;5;28;43mself\u001B[39;49m\u001B[38;5;241;43m.\u001B[39;49m\u001B[43m_run_search\u001B[49m\u001B[43m(\u001B[49m\u001B[43mevaluate_candidates\u001B[49m\u001B[43m)\u001B[49m\n\u001B[1;32m    972\u001B[0m \u001B[38;5;66;03m# multimetric is determined here because in the case of a callable\u001B[39;00m\n\u001B[1;32m    973\u001B[0m \u001B[38;5;66;03m# self.scoring the return type is only known after calling\u001B[39;00m\n\u001B[1;32m    974\u001B[0m first_test_score \u001B[38;5;241m=\u001B[39m all_out[\u001B[38;5;241m0\u001B[39m][\u001B[38;5;124m\"\u001B[39m\u001B[38;5;124mtest_scores\u001B[39m\u001B[38;5;124m\"\u001B[39m]\n",
      "File \u001B[0;32m~/Desktop/ML-course-Labs/.venv/lib/python3.12/site-packages/sklearn/model_selection/_search.py:1914\u001B[0m, in \u001B[0;36mRandomizedSearchCV._run_search\u001B[0;34m(self, evaluate_candidates)\u001B[0m\n\u001B[1;32m   1912\u001B[0m \u001B[38;5;28;01mdef\u001B[39;00m \u001B[38;5;21m_run_search\u001B[39m(\u001B[38;5;28mself\u001B[39m, evaluate_candidates):\n\u001B[1;32m   1913\u001B[0m \u001B[38;5;250m    \u001B[39m\u001B[38;5;124;03m\"\"\"Search n_iter candidates from param_distributions\"\"\"\u001B[39;00m\n\u001B[0;32m-> 1914\u001B[0m     \u001B[43mevaluate_candidates\u001B[49m\u001B[43m(\u001B[49m\n\u001B[1;32m   1915\u001B[0m \u001B[43m        \u001B[49m\u001B[43mParameterSampler\u001B[49m\u001B[43m(\u001B[49m\n\u001B[1;32m   1916\u001B[0m \u001B[43m            \u001B[49m\u001B[38;5;28;43mself\u001B[39;49m\u001B[38;5;241;43m.\u001B[39;49m\u001B[43mparam_distributions\u001B[49m\u001B[43m,\u001B[49m\u001B[43m \u001B[49m\u001B[38;5;28;43mself\u001B[39;49m\u001B[38;5;241;43m.\u001B[39;49m\u001B[43mn_iter\u001B[49m\u001B[43m,\u001B[49m\u001B[43m \u001B[49m\u001B[43mrandom_state\u001B[49m\u001B[38;5;241;43m=\u001B[39;49m\u001B[38;5;28;43mself\u001B[39;49m\u001B[38;5;241;43m.\u001B[39;49m\u001B[43mrandom_state\u001B[49m\n\u001B[1;32m   1917\u001B[0m \u001B[43m        \u001B[49m\u001B[43m)\u001B[49m\n\u001B[1;32m   1918\u001B[0m \u001B[43m    \u001B[49m\u001B[43m)\u001B[49m\n",
      "File \u001B[0;32m~/Desktop/ML-course-Labs/.venv/lib/python3.12/site-packages/sklearn/model_selection/_search.py:916\u001B[0m, in \u001B[0;36mBaseSearchCV.fit.<locals>.evaluate_candidates\u001B[0;34m(candidate_params, cv, more_results)\u001B[0m\n\u001B[1;32m    908\u001B[0m \u001B[38;5;28;01mif\u001B[39;00m \u001B[38;5;28mself\u001B[39m\u001B[38;5;241m.\u001B[39mverbose \u001B[38;5;241m>\u001B[39m \u001B[38;5;241m0\u001B[39m:\n\u001B[1;32m    909\u001B[0m     \u001B[38;5;28mprint\u001B[39m(\n\u001B[1;32m    910\u001B[0m         \u001B[38;5;124m\"\u001B[39m\u001B[38;5;124mFitting \u001B[39m\u001B[38;5;132;01m{0}\u001B[39;00m\u001B[38;5;124m folds for each of \u001B[39m\u001B[38;5;132;01m{1}\u001B[39;00m\u001B[38;5;124m candidates,\u001B[39m\u001B[38;5;124m\"\u001B[39m\n\u001B[1;32m    911\u001B[0m         \u001B[38;5;124m\"\u001B[39m\u001B[38;5;124m totalling \u001B[39m\u001B[38;5;132;01m{2}\u001B[39;00m\u001B[38;5;124m fits\u001B[39m\u001B[38;5;124m\"\u001B[39m\u001B[38;5;241m.\u001B[39mformat(\n\u001B[1;32m    912\u001B[0m             n_splits, n_candidates, n_candidates \u001B[38;5;241m*\u001B[39m n_splits\n\u001B[1;32m    913\u001B[0m         )\n\u001B[1;32m    914\u001B[0m     )\n\u001B[0;32m--> 916\u001B[0m out \u001B[38;5;241m=\u001B[39m \u001B[43mparallel\u001B[49m\u001B[43m(\u001B[49m\n\u001B[1;32m    917\u001B[0m \u001B[43m    \u001B[49m\u001B[43mdelayed\u001B[49m\u001B[43m(\u001B[49m\u001B[43m_fit_and_score\u001B[49m\u001B[43m)\u001B[49m\u001B[43m(\u001B[49m\n\u001B[1;32m    918\u001B[0m \u001B[43m        \u001B[49m\u001B[43mclone\u001B[49m\u001B[43m(\u001B[49m\u001B[43mbase_estimator\u001B[49m\u001B[43m)\u001B[49m\u001B[43m,\u001B[49m\n\u001B[1;32m    919\u001B[0m \u001B[43m        \u001B[49m\u001B[43mX\u001B[49m\u001B[43m,\u001B[49m\n\u001B[1;32m    920\u001B[0m \u001B[43m        \u001B[49m\u001B[43my\u001B[49m\u001B[43m,\u001B[49m\n\u001B[1;32m    921\u001B[0m \u001B[43m        \u001B[49m\u001B[43mtrain\u001B[49m\u001B[38;5;241;43m=\u001B[39;49m\u001B[43mtrain\u001B[49m\u001B[43m,\u001B[49m\n\u001B[1;32m    922\u001B[0m \u001B[43m        \u001B[49m\u001B[43mtest\u001B[49m\u001B[38;5;241;43m=\u001B[39;49m\u001B[43mtest\u001B[49m\u001B[43m,\u001B[49m\n\u001B[1;32m    923\u001B[0m \u001B[43m        \u001B[49m\u001B[43mparameters\u001B[49m\u001B[38;5;241;43m=\u001B[39;49m\u001B[43mparameters\u001B[49m\u001B[43m,\u001B[49m\n\u001B[1;32m    924\u001B[0m \u001B[43m        \u001B[49m\u001B[43msplit_progress\u001B[49m\u001B[38;5;241;43m=\u001B[39;49m\u001B[43m(\u001B[49m\u001B[43msplit_idx\u001B[49m\u001B[43m,\u001B[49m\u001B[43m \u001B[49m\u001B[43mn_splits\u001B[49m\u001B[43m)\u001B[49m\u001B[43m,\u001B[49m\n\u001B[1;32m    925\u001B[0m \u001B[43m        \u001B[49m\u001B[43mcandidate_progress\u001B[49m\u001B[38;5;241;43m=\u001B[39;49m\u001B[43m(\u001B[49m\u001B[43mcand_idx\u001B[49m\u001B[43m,\u001B[49m\u001B[43m \u001B[49m\u001B[43mn_candidates\u001B[49m\u001B[43m)\u001B[49m\u001B[43m,\u001B[49m\n\u001B[1;32m    926\u001B[0m \u001B[43m        \u001B[49m\u001B[38;5;241;43m*\u001B[39;49m\u001B[38;5;241;43m*\u001B[39;49m\u001B[43mfit_and_score_kwargs\u001B[49m\u001B[43m,\u001B[49m\n\u001B[1;32m    927\u001B[0m \u001B[43m    \u001B[49m\u001B[43m)\u001B[49m\n\u001B[1;32m    928\u001B[0m \u001B[43m    \u001B[49m\u001B[38;5;28;43;01mfor\u001B[39;49;00m\u001B[43m \u001B[49m\u001B[43m(\u001B[49m\u001B[43mcand_idx\u001B[49m\u001B[43m,\u001B[49m\u001B[43m \u001B[49m\u001B[43mparameters\u001B[49m\u001B[43m)\u001B[49m\u001B[43m,\u001B[49m\u001B[43m \u001B[49m\u001B[43m(\u001B[49m\u001B[43msplit_idx\u001B[49m\u001B[43m,\u001B[49m\u001B[43m \u001B[49m\u001B[43m(\u001B[49m\u001B[43mtrain\u001B[49m\u001B[43m,\u001B[49m\u001B[43m \u001B[49m\u001B[43mtest\u001B[49m\u001B[43m)\u001B[49m\u001B[43m)\u001B[49m\u001B[43m \u001B[49m\u001B[38;5;129;43;01min\u001B[39;49;00m\u001B[43m \u001B[49m\u001B[43mproduct\u001B[49m\u001B[43m(\u001B[49m\n\u001B[1;32m    929\u001B[0m \u001B[43m        \u001B[49m\u001B[38;5;28;43menumerate\u001B[39;49m\u001B[43m(\u001B[49m\u001B[43mcandidate_params\u001B[49m\u001B[43m)\u001B[49m\u001B[43m,\u001B[49m\n\u001B[1;32m    930\u001B[0m \u001B[43m        \u001B[49m\u001B[38;5;28;43menumerate\u001B[39;49m\u001B[43m(\u001B[49m\u001B[43mcv\u001B[49m\u001B[38;5;241;43m.\u001B[39;49m\u001B[43msplit\u001B[49m\u001B[43m(\u001B[49m\u001B[43mX\u001B[49m\u001B[43m,\u001B[49m\u001B[43m \u001B[49m\u001B[43my\u001B[49m\u001B[43m,\u001B[49m\u001B[43m \u001B[49m\u001B[38;5;241;43m*\u001B[39;49m\u001B[38;5;241;43m*\u001B[39;49m\u001B[43mrouted_params\u001B[49m\u001B[38;5;241;43m.\u001B[39;49m\u001B[43msplitter\u001B[49m\u001B[38;5;241;43m.\u001B[39;49m\u001B[43msplit\u001B[49m\u001B[43m)\u001B[49m\u001B[43m)\u001B[49m\u001B[43m,\u001B[49m\n\u001B[1;32m    931\u001B[0m \u001B[43m    \u001B[49m\u001B[43m)\u001B[49m\n\u001B[1;32m    932\u001B[0m \u001B[43m\u001B[49m\u001B[43m)\u001B[49m\n\u001B[1;32m    934\u001B[0m \u001B[38;5;28;01mif\u001B[39;00m \u001B[38;5;28mlen\u001B[39m(out) \u001B[38;5;241m<\u001B[39m \u001B[38;5;241m1\u001B[39m:\n\u001B[1;32m    935\u001B[0m     \u001B[38;5;28;01mraise\u001B[39;00m \u001B[38;5;167;01mValueError\u001B[39;00m(\n\u001B[1;32m    936\u001B[0m         \u001B[38;5;124m\"\u001B[39m\u001B[38;5;124mNo fits were performed. \u001B[39m\u001B[38;5;124m\"\u001B[39m\n\u001B[1;32m    937\u001B[0m         \u001B[38;5;124m\"\u001B[39m\u001B[38;5;124mWas the CV iterator empty? \u001B[39m\u001B[38;5;124m\"\u001B[39m\n\u001B[1;32m    938\u001B[0m         \u001B[38;5;124m\"\u001B[39m\u001B[38;5;124mWere there no candidates?\u001B[39m\u001B[38;5;124m\"\u001B[39m\n\u001B[1;32m    939\u001B[0m     )\n",
      "File \u001B[0;32m~/Desktop/ML-course-Labs/.venv/lib/python3.12/site-packages/sklearn/utils/parallel.py:67\u001B[0m, in \u001B[0;36mParallel.__call__\u001B[0;34m(self, iterable)\u001B[0m\n\u001B[1;32m     62\u001B[0m config \u001B[38;5;241m=\u001B[39m get_config()\n\u001B[1;32m     63\u001B[0m iterable_with_config \u001B[38;5;241m=\u001B[39m (\n\u001B[1;32m     64\u001B[0m     (_with_config(delayed_func, config), args, kwargs)\n\u001B[1;32m     65\u001B[0m     \u001B[38;5;28;01mfor\u001B[39;00m delayed_func, args, kwargs \u001B[38;5;129;01min\u001B[39;00m iterable\n\u001B[1;32m     66\u001B[0m )\n\u001B[0;32m---> 67\u001B[0m \u001B[38;5;28;01mreturn\u001B[39;00m \u001B[38;5;28;43msuper\u001B[39;49m\u001B[43m(\u001B[49m\u001B[43m)\u001B[49m\u001B[38;5;241;43m.\u001B[39;49m\u001B[38;5;21;43m__call__\u001B[39;49m\u001B[43m(\u001B[49m\u001B[43miterable_with_config\u001B[49m\u001B[43m)\u001B[49m\n",
      "File \u001B[0;32m~/Desktop/ML-course-Labs/.venv/lib/python3.12/site-packages/joblib/parallel.py:1952\u001B[0m, in \u001B[0;36mParallel.__call__\u001B[0;34m(self, iterable)\u001B[0m\n\u001B[1;32m   1946\u001B[0m \u001B[38;5;66;03m# The first item from the output is blank, but it makes the interpreter\u001B[39;00m\n\u001B[1;32m   1947\u001B[0m \u001B[38;5;66;03m# progress until it enters the Try/Except block of the generator and\u001B[39;00m\n\u001B[1;32m   1948\u001B[0m \u001B[38;5;66;03m# reach the first `yield` statement. This starts the aynchronous\u001B[39;00m\n\u001B[1;32m   1949\u001B[0m \u001B[38;5;66;03m# dispatch of the tasks to the workers.\u001B[39;00m\n\u001B[1;32m   1950\u001B[0m \u001B[38;5;28mnext\u001B[39m(output)\n\u001B[0;32m-> 1952\u001B[0m \u001B[38;5;28;01mreturn\u001B[39;00m output \u001B[38;5;28;01mif\u001B[39;00m \u001B[38;5;28mself\u001B[39m\u001B[38;5;241m.\u001B[39mreturn_generator \u001B[38;5;28;01melse\u001B[39;00m \u001B[38;5;28;43mlist\u001B[39;49m\u001B[43m(\u001B[49m\u001B[43moutput\u001B[49m\u001B[43m)\u001B[49m\n",
      "File \u001B[0;32m~/Desktop/ML-course-Labs/.venv/lib/python3.12/site-packages/joblib/parallel.py:1595\u001B[0m, in \u001B[0;36mParallel._get_outputs\u001B[0;34m(self, iterator, pre_dispatch)\u001B[0m\n\u001B[1;32m   1592\u001B[0m     \u001B[38;5;28;01myield\u001B[39;00m\n\u001B[1;32m   1594\u001B[0m     \u001B[38;5;28;01mwith\u001B[39;00m \u001B[38;5;28mself\u001B[39m\u001B[38;5;241m.\u001B[39m_backend\u001B[38;5;241m.\u001B[39mretrieval_context():\n\u001B[0;32m-> 1595\u001B[0m         \u001B[38;5;28;01myield from\u001B[39;00m \u001B[38;5;28mself\u001B[39m\u001B[38;5;241m.\u001B[39m_retrieve()\n\u001B[1;32m   1597\u001B[0m \u001B[38;5;28;01mexcept\u001B[39;00m \u001B[38;5;167;01mGeneratorExit\u001B[39;00m:\n\u001B[1;32m   1598\u001B[0m     \u001B[38;5;66;03m# The generator has been garbage collected before being fully\u001B[39;00m\n\u001B[1;32m   1599\u001B[0m     \u001B[38;5;66;03m# consumed. This aborts the remaining tasks if possible and warn\u001B[39;00m\n\u001B[1;32m   1600\u001B[0m     \u001B[38;5;66;03m# the user if necessary.\u001B[39;00m\n\u001B[1;32m   1601\u001B[0m     \u001B[38;5;28mself\u001B[39m\u001B[38;5;241m.\u001B[39m_exception \u001B[38;5;241m=\u001B[39m \u001B[38;5;28;01mTrue\u001B[39;00m\n",
      "File \u001B[0;32m~/Desktop/ML-course-Labs/.venv/lib/python3.12/site-packages/joblib/parallel.py:1707\u001B[0m, in \u001B[0;36mParallel._retrieve\u001B[0;34m(self)\u001B[0m\n\u001B[1;32m   1702\u001B[0m \u001B[38;5;66;03m# If the next job is not ready for retrieval yet, we just wait for\u001B[39;00m\n\u001B[1;32m   1703\u001B[0m \u001B[38;5;66;03m# async callbacks to progress.\u001B[39;00m\n\u001B[1;32m   1704\u001B[0m \u001B[38;5;28;01mif\u001B[39;00m ((\u001B[38;5;28mlen\u001B[39m(\u001B[38;5;28mself\u001B[39m\u001B[38;5;241m.\u001B[39m_jobs) \u001B[38;5;241m==\u001B[39m \u001B[38;5;241m0\u001B[39m) \u001B[38;5;129;01mor\u001B[39;00m\n\u001B[1;32m   1705\u001B[0m     (\u001B[38;5;28mself\u001B[39m\u001B[38;5;241m.\u001B[39m_jobs[\u001B[38;5;241m0\u001B[39m]\u001B[38;5;241m.\u001B[39mget_status(\n\u001B[1;32m   1706\u001B[0m         timeout\u001B[38;5;241m=\u001B[39m\u001B[38;5;28mself\u001B[39m\u001B[38;5;241m.\u001B[39mtimeout) \u001B[38;5;241m==\u001B[39m TASK_PENDING)):\n\u001B[0;32m-> 1707\u001B[0m     \u001B[43mtime\u001B[49m\u001B[38;5;241;43m.\u001B[39;49m\u001B[43msleep\u001B[49m\u001B[43m(\u001B[49m\u001B[38;5;241;43m0.01\u001B[39;49m\u001B[43m)\u001B[49m\n\u001B[1;32m   1708\u001B[0m     \u001B[38;5;28;01mcontinue\u001B[39;00m\n\u001B[1;32m   1710\u001B[0m \u001B[38;5;66;03m# We need to be careful: the job list can be filling up as\u001B[39;00m\n\u001B[1;32m   1711\u001B[0m \u001B[38;5;66;03m# we empty it and Python list are not thread-safe by\u001B[39;00m\n\u001B[1;32m   1712\u001B[0m \u001B[38;5;66;03m# default hence the use of the lock\u001B[39;00m\n",
      "\u001B[0;31mKeyboardInterrupt\u001B[0m: "
     ]
    }
   ],
   "source": [
    "scores = cross_validate(rs, X_train, y_train, scoring='f1_weighted', \n",
    "                        cv=5, \n",
    "                        return_estimator=True, \n",
    "                        verbose=3) # 15  minutes"
   ],
   "metadata": {
    "collapsed": false,
    "ExecuteTime": {
     "end_time": "2024-07-04T17:13:33.390076Z",
     "start_time": "2024-07-04T16:47:14.223258Z"
    }
   },
   "id": "bc3b88e9be5d7692",
   "execution_count": 22
  },
  {
   "cell_type": "code",
   "outputs": [],
   "source": [
    "for index, estimator in enumerate(scores['estimator']):\n",
    "    print(estimator.best_estimator_.get_params()['sampler'])\n",
    "    print(estimator.best_estimator_.get_params()['dim_reduction'])\n",
    "    print(estimator.best_estimator_.get_params()['classifier'],estimator.best_estimator_.get_params()['classifier'].get_params())\n",
    "    print(scores['test_score'][index])\n",
    "    print('-'*10)"
   ],
   "metadata": {
    "collapsed": false,
    "ExecuteTime": {
     "end_time": "2024-07-04T17:13:33.428778Z",
     "start_time": "2024-07-04T17:13:33.425877Z"
    }
   },
   "id": "1a2eeb8398faad4c",
   "execution_count": null
  },
  {
   "cell_type": "markdown",
   "source": [
    "So, for now the best model is this one: \n",
    "None\n",
    "SequentialFeatureSelector(cv=None, estimator=RandomForestClassifier(),\n",
    "                          forward=False, k_features=(10, 10),\n",
    "                          scoring='f1_weighted')\n",
    "RandomForestClassifier(criterion='entropy', max_depth=10) {'bootstrap': True, 'ccp_alpha': 0.0, 'class_weight': None, 'criterion': 'entropy', 'max_depth': 10, 'max_features': 'sqrt', 'max_leaf_nodes': None, 'max_samples': None, 'min_impurity_decrease': 0.0, 'min_samples_leaf': 1, 'min_samples_split': 2, 'min_weight_fraction_leaf': 0.0, 'monotonic_cst': None, 'n_estimators': 100, 'n_jobs': None, 'oob_score': False, 'random_state': None, 'verbose': 0, 'warm_start': False}"
   ],
   "metadata": {
    "collapsed": false
   },
   "id": "7db367497ce343a5"
  },
  {
   "cell_type": "code",
   "outputs": [],
   "source": [
    "for estimator in scores['estimator']:\n",
    "    pred_train = estimator.best_estimator_.fit(X_train, y_train)\n",
    "    pred_train = estimator.best_estimator_.predict(X_train)\n",
    "    pred_test = estimator.best_estimator_.predict(X_test)\n",
    "    f1_train = f1_score(y_train, pred_train, average='weighted')\n",
    "    f1_test = f1_score(y_test, pred_test, average='weighted')\n",
    "    print(f'Estimator:{estimator.best_estimator_.get_params()['classifier']}, F1 on training set:{f1_train}, F1 on test set:{f1_test}')"
   ],
   "metadata": {
    "collapsed": false,
    "ExecuteTime": {
     "end_time": "2024-07-04T17:13:33.446704Z",
     "start_time": "2024-07-04T17:13:33.441424Z"
    }
   },
   "id": "30b894d573d97635",
   "execution_count": null
  },
  {
   "cell_type": "markdown",
   "source": [
    "The first model performs better on the test set than all the others, so we make a final pick: Estimator:RandomForestClassifier(criterion='entropy', max_depth=10, n_estimators=500)"
   ],
   "metadata": {
    "collapsed": false
   },
   "id": "e5aa89d39df7b48e"
  },
  {
   "cell_type": "markdown",
   "source": [
    "## Refinement of the Selected Model\n"
   ],
   "metadata": {
    "collapsed": false
   },
   "id": "ebc75cccd146a72c"
  },
  {
   "cell_type": "code",
   "outputs": [],
   "source": [
    "best_model_pipeline = IMBPipeline([\n",
    "    ('trans', final_transformer),\n",
    "    ('classifier',RandomForestClassifier(criterion='entropy', max_depth=10, n_estimators=500))\n",
    "])\n",
    "\n",
    "params = {\n",
    "    'classifier__max_depth': [8, 10, 12], \n",
    "    'classifier__criterion': ['gini', 'entropy']\n",
    "}"
   ],
   "metadata": {
    "collapsed": false,
    "ExecuteTime": {
     "end_time": "2024-07-04T17:13:33.453519Z",
     "start_time": "2024-07-04T17:13:33.450906Z"
    }
   },
   "id": "6be4a572654ef807",
   "execution_count": null
  },
  {
   "cell_type": "code",
   "outputs": [],
   "source": [
    "rs_best = RandomizedSearchCV(\n",
    "    estimator = best_model_pipeline,\n",
    "    param_distributions=params,\n",
    "    cv = RepeatedStratifiedKFold(n_splits=5, n_repeats=3),\n",
    "    n_iter=10,\n",
    "    scoring='f1_weighted'\n",
    ")"
   ],
   "metadata": {
    "collapsed": false
   },
   "id": "3bab91baf31d1c1d",
   "execution_count": null
  },
  {
   "cell_type": "code",
   "outputs": [],
   "source": [
    "rs_best.fit(X_train, y_train) # 20 min"
   ],
   "metadata": {
    "collapsed": false
   },
   "id": "9ff403f118f23b09",
   "execution_count": null
  },
  {
   "cell_type": "code",
   "outputs": [],
   "source": [
    "rs_best.best_estimator_"
   ],
   "metadata": {
    "collapsed": false,
    "ExecuteTime": {
     "end_time": "2024-07-04T17:13:33.495929Z",
     "start_time": "2024-07-04T17:13:33.484079Z"
    }
   },
   "id": "85484736949c2b60",
   "execution_count": null
  },
  {
   "cell_type": "code",
   "outputs": [],
   "source": [
    "f1_score(y_test, rs_best.best_estimator_.predict(X_test), average='weighted')"
   ],
   "metadata": {
    "collapsed": false
   },
   "id": "714e8adacb729220",
   "execution_count": null
  },
  {
   "cell_type": "code",
   "outputs": [],
   "source": [
    "cls = rs_best.best_estimator_"
   ],
   "metadata": {
    "collapsed": false
   },
   "id": "5149ba0af999fcf8",
   "execution_count": null
  },
  {
   "cell_type": "code",
   "outputs": [],
   "source": [
    "train_sizes, train_scores, test_scores = learning_curve(cls,\n",
    "                                                        X=X_train,\n",
    "                                                        y=y_train,\n",
    "                                                        train_sizes=[0.01, 0.1, 0.2, 0.3, 0.4, 0.5, 0.6, 0.7, 0.8, 0.9, 1.0],\n",
    "                                                        cv=5, \n",
    "                                                        n_jobs=-1,\n",
    "                                                        scoring='f1_weighted',\n",
    "                                                        shuffle=False)"
   ],
   "metadata": {
    "collapsed": false
   },
   "id": "99e925ee1a4cfd99",
   "execution_count": null
  },
  {
   "cell_type": "code",
   "outputs": [],
   "source": [
    "train_mean = np.mean(train_scores, axis=1)\n",
    "train_std = np.std(train_scores, axis=1)\n",
    "test_mean = np.mean(test_scores, axis=1)\n",
    "test_std = np.std(test_scores, axis=1)\n",
    "\n",
    "fig=plt.figure(figsize=(12,7))\n",
    "ax = fig.add_subplot()\n",
    "\n",
    "ax.plot(train_sizes, train_mean,\n",
    "         color='blue', marker='+',\n",
    "         markersize=5, label='Training accuracy')\n",
    "\n",
    "ax.fill_between(train_sizes,\n",
    "                 train_mean + train_std,\n",
    "                 train_mean - train_std,\n",
    "                 alpha=0.15, color='blue')\n",
    "\n",
    "ax.plot(train_sizes, test_mean,\n",
    "         color='green', linestyle='--',\n",
    "         marker='d', markersize=5,\n",
    "         label='Validation accuracy')\n",
    "\n",
    "ax.fill_between(train_sizes,\n",
    "                 test_mean + test_std,\n",
    "                 test_mean - test_std,\n",
    "                 alpha=0.15, color='green')\n",
    "\n",
    "ax.set_xlabel('Training set size')\n",
    "ax.set_ylabel('F1-score')\n",
    "ax.legend(loc='lower right')\n",
    "ax.set_title('Learning curve')\n",
    "ax.set_ylim([0.60, 1.03])"
   ],
   "metadata": {
    "collapsed": false
   },
   "id": "cf99c0e2f7ca772b",
   "execution_count": null
  },
  {
   "cell_type": "code",
   "outputs": [],
   "source": [
    "range_max_depth = [8, 10, 12, 14]\n",
    "train_scores, test_scores = validation_curve(cls,\n",
    "        X=X_train, \n",
    "        y=y_train, \n",
    "        param_range=\n",
    "        range_max_depth, \n",
    "        param_name='classifier__max_depth',\n",
    "        cv=5, \n",
    "        n_jobs=-1, \n",
    "        scoring='f1_weighted'\n",
    ")"
   ],
   "metadata": {
    "collapsed": false
   },
   "id": "e6c0f826f23608b3",
   "execution_count": null
  },
  {
   "cell_type": "code",
   "outputs": [],
   "source": [
    "train_mean = np.mean(train_scores, axis=1)\n",
    "train_std = np.std(train_scores, axis=1)\n",
    "test_mean = np.mean(test_scores, axis=1)\n",
    "test_std = np.std(test_scores, axis=1)\n",
    "\n",
    "fig=plt.figure(figsize=(12,7))\n",
    "ax = fig.add_subplot()\n",
    "ax.plot(range_max_depth, train_mean,\n",
    "         color='blue', marker='o',\n",
    "         markersize=5, label='Training accuracy')\n",
    "\n",
    "ax.fill_between(range_max_depth,\n",
    "                 train_mean + train_std,\n",
    "                 train_mean - train_std,\n",
    "                 alpha=0.15, color='blue')\n",
    "\n",
    "ax.plot(range_max_depth, test_mean,\n",
    "         color='green', linestyle='--',\n",
    "         marker='s', markersize=5,\n",
    "         label='Validation accuracy')\n",
    "\n",
    "ax.fill_between(range_max_depth,\n",
    "                 test_mean + test_std,\n",
    "                 test_mean - test_std,\n",
    "                 alpha=0.15, color='green')\n",
    "\n",
    "ax.set_xlabel('Max_depth')\n",
    "ax.set_ylabel('F1-score')\n",
    "ax.legend(loc='lower right')\n",
    "ax.set_ylim([0.8, 1.0])\n",
    "ax.set_xlim([6, 15])"
   ],
   "metadata": {
    "collapsed": false
   },
   "id": "3f248a8e0cc99b56",
   "execution_count": null
  },
  {
   "cell_type": "code",
   "outputs": [],
   "source": [
    "train_mean = np.mean(train_scores, axis=1)\n",
    "train_std = np.std(train_scores, axis=1)\n",
    "test_mean = np.mean(test_scores, axis=1)\n",
    "test_std = np.std(test_scores, axis=1)\n",
    "\n",
    "fig = plt.figure(figsize=(12, 7))\n",
    "ax = fig.add_subplot()\n",
    "ax.plot(train_sizes, train_scores[:, 0],\n",
    "        color='blue', marker='o',\n",
    "        markersize=5, label='Training accuracy - fold 1')\n",
    "ax.plot(train_sizes, train_mean,\n",
    "        color='blue', marker='+',\n",
    "        markersize=5, label='Training accuracy')\n",
    "ax.fill_between(train_sizes, train_mean + train_std, \n",
    "                train_mean - train_std, alpha=0.15, color='blue')\n",
    "ax.plot(train_sizes, test_scores[:, 0],\n",
    "        color='green', linestyle='--',\n",
    "        marker='s', markersize=5,\n",
    "        label='Validation accuracy - fold 1')\n",
    "ax.plot(train_sizes, test_mean,\n",
    "        color='green', linestyle='--',\n",
    "        marker='d', markersize=5,\n",
    "        label='Validation accuracy')\n",
    "ax.fill_between(train_sizes, test_mean + test_std, \n",
    "                test_mean - test_std, alpha=0.15, color='green')\n",
    "\n",
    "ax.grid()\n",
    "ax.set_xlabel('Training set size')\n",
    "ax.set_ylabel('Accuracy')\n",
    "ax.legend(loc='lower right')\n",
    "ax.set_ylim([0.87, 1.03])"
   ],
   "metadata": {
    "collapsed": false
   },
   "id": "1a6e44ae395395f1"
  },
  {
   "cell_type": "code",
   "outputs": [],
   "source": [
    "confusion_matrix = confusion_matrix(y_train, y_train_predicted)"
   ],
   "metadata": {
    "collapsed": false
   },
   "id": "a3f3e7cadd76413d"
  }
 ],
 "metadata": {
  "kernelspec": {
   "display_name": "Python 3",
   "language": "python",
   "name": "python3"
  },
  "language_info": {
   "codemirror_mode": {
    "name": "ipython",
    "version": 2
   },
   "file_extension": ".py",
   "mimetype": "text/x-python",
   "name": "python",
   "nbconvert_exporter": "python",
   "pygments_lexer": "ipython2",
   "version": "2.7.6"
  }
 },
 "nbformat": 4,
 "nbformat_minor": 5
}
